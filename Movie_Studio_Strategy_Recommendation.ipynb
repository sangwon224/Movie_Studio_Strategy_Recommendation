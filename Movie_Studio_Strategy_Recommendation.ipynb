{
 "cells": [
  {
   "cell_type": "markdown",
   "metadata": {},
   "source": [
    "# S-Trio Entertainment Presents\n",
    "## Lights, Camera, Data: Building a Profitable Movie Studio\n",
    "**Authors:** Sam (TL), Sangwon (GL), Sarah (PL) "
   ]
  },
  {
   "cell_type": "markdown",
   "metadata": {},
   "source": [
    "## Project Overview\n",
    "In the unpredictable realm of film production, financial outcomes can vary dramatically. Take, for instance, the contrasting fates of two notable films: \"Strange World,\" a 2022 science-fiction adventure by Walt Disney Animation Studios, and \"Paranormal Activity,\" a 2007 supernatural horror film.\n",
    "\n",
    "\"Strange World\" incurred substantial losses for Disney, amounting to approximately \\\\$200 million. Despite a hefty investment exceeding \\\\$180 million, the film's box office revenue barely scraped past \\\\$75 million, leaving the studio with a significant deficit.\n",
    "\n",
    "Conversely, \"Paranormal Activity\" emerged as a blockbuster success story. Despite its humble production budget of just $15,000, the film amassed an astonishing \\\\$195 million in box office revenue, resulting in an estimated profit of \\\\$78 million.\n",
    "\n",
    "These examples underscore the high-stakes nature of film investment and the potential for both immense gains and devastating losses.\n",
    "\n",
    "Against this backdrop, this project offers a comprehensive analysis of historical movies' financial performance, examining factors such as movie rating, genre, and budget. Additionally, it employs a simple linear regression model to forecast profit based on budgetary allocations.\n",
    "\n",
    "The insights derived from this analysis aim to provide valuable guidance to the leadership team of **S-Trio Entertainment**'s new movie studio, empowering them to make informed and strategic investment decisions for their upcoming projects.\n",
    "\n",
    "Source: Wikipedia"
   ]
  },
  {
   "cell_type": "markdown",
   "metadata": {},
   "source": [
    "## Business Problem\n",
    "\n",
    "With limited industry expertise and knowledge, **S-Trio Entertainment** has decided to create a new movie studio. To make informed and strategic investment decisions for their upcoming projects, the company's C-suite has tasked the team with delving into various movie databases for key insights.\n",
    "\n",
    "Specifically, the leadership seeks answers to the following questions:\n",
    "\n",
    "1. Which movie rating category - R-rated or non-R-rated - demonstrates superior financial performance?\n",
    "2. Amongst different movie genres, which exhibits the highest profitability?\n",
    "3. What is the correlation between production budget and profit?\n"
   ]
  },
  {
   "cell_type": "markdown",
   "metadata": {},
   "source": [
    "## Data Understanding\n",
    "For the project, following database and datasets were utilized for the analysis:  \n",
    "- IMDB\n",
    "- Rotten Tomatoes\n",
    "- The Numbers\n",
    "\n",
    "Each database or dataset encompasses mostly distinct categories of movie information. For instance, the Rotten Tomatoes dataset includes movie ratings while the The Numbers dataset provides data on domestic and worldwide gross revenue. Given the variations in data structure and content across these datasets, selected tables were utilized either independently or in conjunction with others. "
   ]
  },
  {
   "cell_type": "markdown",
   "metadata": {},
   "source": [
    "We first start by importing packages and raw data needed to evaluate the business problem."
   ]
  },
  {
   "cell_type": "code",
   "execution_count": 2,
   "metadata": {},
   "outputs": [],
   "source": [
    "import numpy as np\n",
    "import pandas as pd\n",
    "import sqlite3\n",
    "import matplotlib.pyplot as plt\n",
    "import matplotlib.ticker as ticker\n",
    "from mpl_toolkits.mplot3d import Axes3D\n",
    "from random import gauss, seed\n",
    "from scipy import stats\n",
    "import seaborn as sns\n",
    "from mpl_toolkits import mplot3d\n",
    "import sklearn.metrics as metrics\n",
    "import statsmodels.api as sm \n",
    "\n",
    "%matplotlib inline \n",
    "\n",
    "pd.set_option('display.max_columns', None)"
   ]
  },
  {
   "cell_type": "code",
   "execution_count": 3,
   "metadata": {},
   "outputs": [],
   "source": [
    "#Initiating SQL connection\n",
    "\n",
    "conn = sqlite3.connect('data/im.db')\n",
    "cursor = conn.cursor()"
   ]
  },
  {
   "cell_type": "code",
   "execution_count": 4,
   "metadata": {},
   "outputs": [
    {
     "data": {
      "text/html": [
       "<div>\n",
       "<style scoped>\n",
       "    .dataframe tbody tr th:only-of-type {\n",
       "        vertical-align: middle;\n",
       "    }\n",
       "\n",
       "    .dataframe tbody tr th {\n",
       "        vertical-align: top;\n",
       "    }\n",
       "\n",
       "    .dataframe thead th {\n",
       "        text-align: right;\n",
       "    }\n",
       "</style>\n",
       "<table border=\"1\" class=\"dataframe\">\n",
       "  <thead>\n",
       "    <tr style=\"text-align: right;\">\n",
       "      <th></th>\n",
       "      <th>id</th>\n",
       "      <th>synopsis</th>\n",
       "      <th>rating</th>\n",
       "      <th>genre</th>\n",
       "      <th>director</th>\n",
       "      <th>writer</th>\n",
       "      <th>theater_date</th>\n",
       "      <th>dvd_date</th>\n",
       "      <th>currency</th>\n",
       "      <th>box_office</th>\n",
       "      <th>runtime</th>\n",
       "      <th>studio</th>\n",
       "    </tr>\n",
       "  </thead>\n",
       "  <tbody>\n",
       "    <tr>\n",
       "      <th>0</th>\n",
       "      <td>1</td>\n",
       "      <td>This gritty, fast-paced, and innovative police...</td>\n",
       "      <td>R</td>\n",
       "      <td>Action and Adventure|Classics|Drama</td>\n",
       "      <td>William Friedkin</td>\n",
       "      <td>Ernest Tidyman</td>\n",
       "      <td>Oct 9, 1971</td>\n",
       "      <td>Sep 25, 2001</td>\n",
       "      <td>NaN</td>\n",
       "      <td>NaN</td>\n",
       "      <td>104 minutes</td>\n",
       "      <td>NaN</td>\n",
       "    </tr>\n",
       "    <tr>\n",
       "      <th>1</th>\n",
       "      <td>3</td>\n",
       "      <td>New York City, not-too-distant-future: Eric Pa...</td>\n",
       "      <td>R</td>\n",
       "      <td>Drama|Science Fiction and Fantasy</td>\n",
       "      <td>David Cronenberg</td>\n",
       "      <td>David Cronenberg|Don DeLillo</td>\n",
       "      <td>Aug 17, 2012</td>\n",
       "      <td>Jan 1, 2013</td>\n",
       "      <td>$</td>\n",
       "      <td>600,000</td>\n",
       "      <td>108 minutes</td>\n",
       "      <td>Entertainment One</td>\n",
       "    </tr>\n",
       "    <tr>\n",
       "      <th>2</th>\n",
       "      <td>5</td>\n",
       "      <td>Illeana Douglas delivers a superb performance ...</td>\n",
       "      <td>R</td>\n",
       "      <td>Drama|Musical and Performing Arts</td>\n",
       "      <td>Allison Anders</td>\n",
       "      <td>Allison Anders</td>\n",
       "      <td>Sep 13, 1996</td>\n",
       "      <td>Apr 18, 2000</td>\n",
       "      <td>NaN</td>\n",
       "      <td>NaN</td>\n",
       "      <td>116 minutes</td>\n",
       "      <td>NaN</td>\n",
       "    </tr>\n",
       "    <tr>\n",
       "      <th>3</th>\n",
       "      <td>6</td>\n",
       "      <td>Michael Douglas runs afoul of a treacherous su...</td>\n",
       "      <td>R</td>\n",
       "      <td>Drama|Mystery and Suspense</td>\n",
       "      <td>Barry Levinson</td>\n",
       "      <td>Paul Attanasio|Michael Crichton</td>\n",
       "      <td>Dec 9, 1994</td>\n",
       "      <td>Aug 27, 1997</td>\n",
       "      <td>NaN</td>\n",
       "      <td>NaN</td>\n",
       "      <td>128 minutes</td>\n",
       "      <td>NaN</td>\n",
       "    </tr>\n",
       "    <tr>\n",
       "      <th>4</th>\n",
       "      <td>7</td>\n",
       "      <td>NaN</td>\n",
       "      <td>NR</td>\n",
       "      <td>Drama|Romance</td>\n",
       "      <td>Rodney Bennett</td>\n",
       "      <td>Giles Cooper</td>\n",
       "      <td>NaN</td>\n",
       "      <td>NaN</td>\n",
       "      <td>NaN</td>\n",
       "      <td>NaN</td>\n",
       "      <td>200 minutes</td>\n",
       "      <td>NaN</td>\n",
       "    </tr>\n",
       "  </tbody>\n",
       "</table>\n",
       "</div>"
      ],
      "text/plain": [
       "   id                                           synopsis rating  \\\n",
       "0   1  This gritty, fast-paced, and innovative police...      R   \n",
       "1   3  New York City, not-too-distant-future: Eric Pa...      R   \n",
       "2   5  Illeana Douglas delivers a superb performance ...      R   \n",
       "3   6  Michael Douglas runs afoul of a treacherous su...      R   \n",
       "4   7                                                NaN     NR   \n",
       "\n",
       "                                 genre          director  \\\n",
       "0  Action and Adventure|Classics|Drama  William Friedkin   \n",
       "1    Drama|Science Fiction and Fantasy  David Cronenberg   \n",
       "2    Drama|Musical and Performing Arts    Allison Anders   \n",
       "3           Drama|Mystery and Suspense    Barry Levinson   \n",
       "4                        Drama|Romance    Rodney Bennett   \n",
       "\n",
       "                            writer  theater_date      dvd_date currency  \\\n",
       "0                   Ernest Tidyman   Oct 9, 1971  Sep 25, 2001      NaN   \n",
       "1     David Cronenberg|Don DeLillo  Aug 17, 2012   Jan 1, 2013        $   \n",
       "2                   Allison Anders  Sep 13, 1996  Apr 18, 2000      NaN   \n",
       "3  Paul Attanasio|Michael Crichton   Dec 9, 1994  Aug 27, 1997      NaN   \n",
       "4                     Giles Cooper           NaN           NaN      NaN   \n",
       "\n",
       "  box_office      runtime             studio  \n",
       "0        NaN  104 minutes                NaN  \n",
       "1    600,000  108 minutes  Entertainment One  \n",
       "2        NaN  116 minutes                NaN  \n",
       "3        NaN  128 minutes                NaN  \n",
       "4        NaN  200 minutes                NaN  "
      ]
     },
     "execution_count": 4,
     "metadata": {},
     "output_type": "execute_result"
    }
   ],
   "source": [
    "#Reading the rt.movie.info data for First Business Recommendation\n",
    "\n",
    "movie_info_df = pd.read_csv(\"data/rt.movie_info.tsv.gz\", sep=\"\\t\", encoding='windows-1252')\n",
    "movie_info_df.head()"
   ]
  },
  {
   "cell_type": "markdown",
   "metadata": {},
   "source": [
    "Pulling in the data for the second and third business recommendations"
   ]
  },
  {
   "cell_type": "code",
   "execution_count": 5,
   "metadata": {},
   "outputs": [
    {
     "data": {
      "text/html": [
       "<div>\n",
       "<style scoped>\n",
       "    .dataframe tbody tr th:only-of-type {\n",
       "        vertical-align: middle;\n",
       "    }\n",
       "\n",
       "    .dataframe tbody tr th {\n",
       "        vertical-align: top;\n",
       "    }\n",
       "\n",
       "    .dataframe thead th {\n",
       "        text-align: right;\n",
       "    }\n",
       "</style>\n",
       "<table border=\"1\" class=\"dataframe\">\n",
       "  <thead>\n",
       "    <tr style=\"text-align: right;\">\n",
       "      <th></th>\n",
       "      <th>id</th>\n",
       "      <th>release_date</th>\n",
       "      <th>movie</th>\n",
       "      <th>production_budget</th>\n",
       "      <th>domestic_gross</th>\n",
       "      <th>worldwide_gross</th>\n",
       "    </tr>\n",
       "  </thead>\n",
       "  <tbody>\n",
       "    <tr>\n",
       "      <th>0</th>\n",
       "      <td>1</td>\n",
       "      <td>Dec 18, 2009</td>\n",
       "      <td>Avatar</td>\n",
       "      <td>$425,000,000</td>\n",
       "      <td>$760,507,625</td>\n",
       "      <td>$2,776,345,279</td>\n",
       "    </tr>\n",
       "    <tr>\n",
       "      <th>1</th>\n",
       "      <td>2</td>\n",
       "      <td>May 20, 2011</td>\n",
       "      <td>Pirates of the Caribbean: On Stranger Tides</td>\n",
       "      <td>$410,600,000</td>\n",
       "      <td>$241,063,875</td>\n",
       "      <td>$1,045,663,875</td>\n",
       "    </tr>\n",
       "    <tr>\n",
       "      <th>2</th>\n",
       "      <td>3</td>\n",
       "      <td>Jun 7, 2019</td>\n",
       "      <td>Dark Phoenix</td>\n",
       "      <td>$350,000,000</td>\n",
       "      <td>$42,762,350</td>\n",
       "      <td>$149,762,350</td>\n",
       "    </tr>\n",
       "    <tr>\n",
       "      <th>3</th>\n",
       "      <td>4</td>\n",
       "      <td>May 1, 2015</td>\n",
       "      <td>Avengers: Age of Ultron</td>\n",
       "      <td>$330,600,000</td>\n",
       "      <td>$459,005,868</td>\n",
       "      <td>$1,403,013,963</td>\n",
       "    </tr>\n",
       "    <tr>\n",
       "      <th>4</th>\n",
       "      <td>5</td>\n",
       "      <td>Dec 15, 2017</td>\n",
       "      <td>Star Wars Ep. VIII: The Last Jedi</td>\n",
       "      <td>$317,000,000</td>\n",
       "      <td>$620,181,382</td>\n",
       "      <td>$1,316,721,747</td>\n",
       "    </tr>\n",
       "  </tbody>\n",
       "</table>\n",
       "</div>"
      ],
      "text/plain": [
       "   id  release_date                                        movie  \\\n",
       "0   1  Dec 18, 2009                                       Avatar   \n",
       "1   2  May 20, 2011  Pirates of the Caribbean: On Stranger Tides   \n",
       "2   3   Jun 7, 2019                                 Dark Phoenix   \n",
       "3   4   May 1, 2015                      Avengers: Age of Ultron   \n",
       "4   5  Dec 15, 2017            Star Wars Ep. VIII: The Last Jedi   \n",
       "\n",
       "  production_budget domestic_gross worldwide_gross  \n",
       "0      $425,000,000   $760,507,625  $2,776,345,279  \n",
       "1      $410,600,000   $241,063,875  $1,045,663,875  \n",
       "2      $350,000,000    $42,762,350    $149,762,350  \n",
       "3      $330,600,000   $459,005,868  $1,403,013,963  \n",
       "4      $317,000,000   $620,181,382  $1,316,721,747  "
      ]
     },
     "execution_count": 5,
     "metadata": {},
     "output_type": "execute_result"
    }
   ],
   "source": [
    "movie_budget_df = pd.read_csv(\"data/tn.movie_budgets.csv.gz\")\n",
    "\n",
    "movie_budget_df.head()"
   ]
  },
  {
   "cell_type": "code",
   "execution_count": 6,
   "metadata": {},
   "outputs": [
    {
     "data": {
      "text/html": [
       "<div>\n",
       "<style scoped>\n",
       "    .dataframe tbody tr th:only-of-type {\n",
       "        vertical-align: middle;\n",
       "    }\n",
       "\n",
       "    .dataframe tbody tr th {\n",
       "        vertical-align: top;\n",
       "    }\n",
       "\n",
       "    .dataframe thead th {\n",
       "        text-align: right;\n",
       "    }\n",
       "</style>\n",
       "<table border=\"1\" class=\"dataframe\">\n",
       "  <thead>\n",
       "    <tr style=\"text-align: right;\">\n",
       "      <th></th>\n",
       "      <th>movie_id</th>\n",
       "      <th>primary_title</th>\n",
       "      <th>original_title</th>\n",
       "      <th>start_year</th>\n",
       "      <th>runtime_minutes</th>\n",
       "      <th>genres</th>\n",
       "    </tr>\n",
       "  </thead>\n",
       "  <tbody>\n",
       "    <tr>\n",
       "      <th>0</th>\n",
       "      <td>tt0063540</td>\n",
       "      <td>Sunghursh</td>\n",
       "      <td>Sunghursh</td>\n",
       "      <td>2013</td>\n",
       "      <td>175.0</td>\n",
       "      <td>Action,Crime,Drama</td>\n",
       "    </tr>\n",
       "    <tr>\n",
       "      <th>1</th>\n",
       "      <td>tt0066787</td>\n",
       "      <td>One Day Before the Rainy Season</td>\n",
       "      <td>Ashad Ka Ek Din</td>\n",
       "      <td>2019</td>\n",
       "      <td>114.0</td>\n",
       "      <td>Biography,Drama</td>\n",
       "    </tr>\n",
       "    <tr>\n",
       "      <th>2</th>\n",
       "      <td>tt0069049</td>\n",
       "      <td>The Other Side of the Wind</td>\n",
       "      <td>The Other Side of the Wind</td>\n",
       "      <td>2018</td>\n",
       "      <td>122.0</td>\n",
       "      <td>Drama</td>\n",
       "    </tr>\n",
       "    <tr>\n",
       "      <th>3</th>\n",
       "      <td>tt0069204</td>\n",
       "      <td>Sabse Bada Sukh</td>\n",
       "      <td>Sabse Bada Sukh</td>\n",
       "      <td>2018</td>\n",
       "      <td>NaN</td>\n",
       "      <td>Comedy,Drama</td>\n",
       "    </tr>\n",
       "    <tr>\n",
       "      <th>4</th>\n",
       "      <td>tt0100275</td>\n",
       "      <td>The Wandering Soap Opera</td>\n",
       "      <td>La Telenovela Errante</td>\n",
       "      <td>2017</td>\n",
       "      <td>80.0</td>\n",
       "      <td>Comedy,Drama,Fantasy</td>\n",
       "    </tr>\n",
       "  </tbody>\n",
       "</table>\n",
       "</div>"
      ],
      "text/plain": [
       "    movie_id                    primary_title              original_title  \\\n",
       "0  tt0063540                        Sunghursh                   Sunghursh   \n",
       "1  tt0066787  One Day Before the Rainy Season             Ashad Ka Ek Din   \n",
       "2  tt0069049       The Other Side of the Wind  The Other Side of the Wind   \n",
       "3  tt0069204                  Sabse Bada Sukh             Sabse Bada Sukh   \n",
       "4  tt0100275         The Wandering Soap Opera       La Telenovela Errante   \n",
       "\n",
       "   start_year  runtime_minutes                genres  \n",
       "0        2013            175.0    Action,Crime,Drama  \n",
       "1        2019            114.0       Biography,Drama  \n",
       "2        2018            122.0                 Drama  \n",
       "3        2018              NaN          Comedy,Drama  \n",
       "4        2017             80.0  Comedy,Drama,Fantasy  "
      ]
     },
     "execution_count": 6,
     "metadata": {},
     "output_type": "execute_result"
    }
   ],
   "source": [
    "#Pulling needed data from IMDB database using SQL\n",
    "\n",
    "df_movie_imdb = pd.read_sql(\"\"\"\n",
    "  SELECT *\n",
    "    FROM movie_basics\"\"\", conn)\n",
    "\n",
    "df_movie_imdb.head()"
   ]
  },
  {
   "cell_type": "markdown",
   "metadata": {},
   "source": [
    "## Data Preparation"
   ]
  },
  {
   "cell_type": "markdown",
   "metadata": {},
   "source": [
    "Overall data cleaning steps for the analyses:\n",
    "1. Handle missing values\n",
    "2. Standardize number format and change data type\n",
    "3. Reclassify group categories\n",
    "4. Aggregate data into reclassified groups\n",
    "5. Take samples from the dataset"
   ]
  },
  {
   "cell_type": "markdown",
   "metadata": {},
   "source": [
    "We start with the data cleaning and filtering for our first business recommendation."
   ]
  },
  {
   "cell_type": "code",
   "execution_count": 5,
   "metadata": {},
   "outputs": [
    {
     "name": "stdout",
     "output_type": "stream",
     "text": [
      "<class 'pandas.core.frame.DataFrame'>\n",
      "RangeIndex: 1560 entries, 0 to 1559\n",
      "Data columns (total 12 columns):\n",
      " #   Column        Non-Null Count  Dtype \n",
      "---  ------        --------------  ----- \n",
      " 0   id            1560 non-null   int64 \n",
      " 1   synopsis      1498 non-null   object\n",
      " 2   rating        1557 non-null   object\n",
      " 3   genre         1552 non-null   object\n",
      " 4   director      1361 non-null   object\n",
      " 5   writer        1111 non-null   object\n",
      " 6   theater_date  1201 non-null   object\n",
      " 7   dvd_date      1201 non-null   object\n",
      " 8   currency      340 non-null    object\n",
      " 9   box_office    340 non-null    object\n",
      " 10  runtime       1530 non-null   object\n",
      " 11  studio        494 non-null    object\n",
      "dtypes: int64(1), object(11)\n",
      "memory usage: 146.4+ KB\n"
     ]
    }
   ],
   "source": [
    "# need to change box_office dtype from object to int64\n",
    "movie_info_df.info()"
   ]
  },
  {
   "cell_type": "code",
   "execution_count": 6,
   "metadata": {},
   "outputs": [],
   "source": [
    "#drop na values in box office and rating columns\n",
    "movie_info_df.dropna(subset=['box_office', 'rating'], inplace=True)"
   ]
  },
  {
   "cell_type": "code",
   "execution_count": 7,
   "metadata": {},
   "outputs": [],
   "source": [
    "#removing commas and making the value to int64\n",
    "movie_info_df['box_office_clean'] = movie_info_df['box_office'].str.replace(\",\", \"\").astype(np.int64)"
   ]
  },
  {
   "cell_type": "code",
   "execution_count": 8,
   "metadata": {},
   "outputs": [
    {
     "data": {
      "text/plain": [
       "R        142\n",
       "PG-13    117\n",
       "PG        52\n",
       "NR        19\n",
       "G          9\n",
       "NC17       1\n",
       "Name: rating, dtype: int64"
      ]
     },
     "execution_count": 8,
     "metadata": {},
     "output_type": "execute_result"
    }
   ],
   "source": [
    "#count of each rating type\n",
    "movie_info_df['rating'].value_counts()"
   ]
  },
  {
   "cell_type": "code",
   "execution_count": 9,
   "metadata": {},
   "outputs": [
    {
     "data": {
      "text/plain": [
       "rating\n",
       "G         274031600\n",
       "NC17        1260219\n",
       "NR         47238725\n",
       "PG       2653744950\n",
       "PG-13    6612858122\n",
       "R        3298910048\n",
       "Name: box_office_clean, dtype: int64"
      ]
     },
     "execution_count": 9,
     "metadata": {},
     "output_type": "execute_result"
    }
   ],
   "source": [
    "#box office total per rating\n",
    "movie_info_df.groupby(by = 'rating').sum()['box_office_clean']"
   ]
  },
  {
   "cell_type": "code",
   "execution_count": 10,
   "metadata": {},
   "outputs": [],
   "source": [
    "#making rating column binary - R or non-R\n",
    "movie_info_df['rating'].replace(\"G\",\"Non-R\", inplace=True)\n",
    "movie_info_df['rating'].replace(\"NC17\", \"R\", inplace=True)\n",
    "movie_info_df['rating'].replace(\"NR\", \"Non-R\", inplace=True)\n",
    "movie_info_df['rating'].replace(\"PG\", \"Non-R\", inplace=True)\n",
    "movie_info_df['rating'].replace(\"PG-13\", \"Non-R\", inplace=True)"
   ]
  },
  {
   "cell_type": "code",
   "execution_count": 11,
   "metadata": {},
   "outputs": [
    {
     "data": {
      "text/plain": [
       "Non-R    197\n",
       "R        143\n",
       "Name: rating, dtype: int64"
      ]
     },
     "execution_count": 11,
     "metadata": {},
     "output_type": "execute_result"
    }
   ],
   "source": [
    "#confirming above code worked\n",
    "movie_info_df['rating'].value_counts()"
   ]
  },
  {
   "cell_type": "code",
   "execution_count": 12,
   "metadata": {},
   "outputs": [
    {
     "data": {
      "text/plain": [
       "rating\n",
       "Non-R    9587873397\n",
       "R        3300170267\n",
       "Name: box_office_clean, dtype: int64"
      ]
     },
     "execution_count": 12,
     "metadata": {},
     "output_type": "execute_result"
    }
   ],
   "source": [
    "#box office total per rating\n",
    "movie_info_df.groupby(by = 'rating').sum()['box_office_clean']"
   ]
  },
  {
   "cell_type": "markdown",
   "metadata": {},
   "source": [
    "<hr style=\"border:0.5px solid gray\">"
   ]
  },
  {
   "cell_type": "markdown",
   "metadata": {},
   "source": [
    "We did a second data cleaning for our second and third business recommendations"
   ]
  },
  {
   "cell_type": "code",
   "execution_count": 14,
   "metadata": {},
   "outputs": [
    {
     "data": {
      "text/html": [
       "<div>\n",
       "<style scoped>\n",
       "    .dataframe tbody tr th:only-of-type {\n",
       "        vertical-align: middle;\n",
       "    }\n",
       "\n",
       "    .dataframe tbody tr th {\n",
       "        vertical-align: top;\n",
       "    }\n",
       "\n",
       "    .dataframe thead th {\n",
       "        text-align: right;\n",
       "    }\n",
       "</style>\n",
       "<table border=\"1\" class=\"dataframe\">\n",
       "  <thead>\n",
       "    <tr style=\"text-align: right;\">\n",
       "      <th></th>\n",
       "      <th>id</th>\n",
       "      <th>release_date</th>\n",
       "      <th>movie</th>\n",
       "      <th>production_budget</th>\n",
       "      <th>domestic_gross</th>\n",
       "      <th>worldwide_gross</th>\n",
       "    </tr>\n",
       "  </thead>\n",
       "  <tbody>\n",
       "    <tr>\n",
       "      <th>0</th>\n",
       "      <td>1</td>\n",
       "      <td>Dec 18, 2009</td>\n",
       "      <td>Avatar</td>\n",
       "      <td>$425,000,000</td>\n",
       "      <td>$760,507,625</td>\n",
       "      <td>$2,776,345,279</td>\n",
       "    </tr>\n",
       "    <tr>\n",
       "      <th>1</th>\n",
       "      <td>2</td>\n",
       "      <td>May 20, 2011</td>\n",
       "      <td>Pirates of the Caribbean: On Stranger Tides</td>\n",
       "      <td>$410,600,000</td>\n",
       "      <td>$241,063,875</td>\n",
       "      <td>$1,045,663,875</td>\n",
       "    </tr>\n",
       "    <tr>\n",
       "      <th>2</th>\n",
       "      <td>3</td>\n",
       "      <td>Jun 7, 2019</td>\n",
       "      <td>Dark Phoenix</td>\n",
       "      <td>$350,000,000</td>\n",
       "      <td>$42,762,350</td>\n",
       "      <td>$149,762,350</td>\n",
       "    </tr>\n",
       "    <tr>\n",
       "      <th>3</th>\n",
       "      <td>4</td>\n",
       "      <td>May 1, 2015</td>\n",
       "      <td>Avengers: Age of Ultron</td>\n",
       "      <td>$330,600,000</td>\n",
       "      <td>$459,005,868</td>\n",
       "      <td>$1,403,013,963</td>\n",
       "    </tr>\n",
       "    <tr>\n",
       "      <th>4</th>\n",
       "      <td>5</td>\n",
       "      <td>Dec 15, 2017</td>\n",
       "      <td>Star Wars Ep. VIII: The Last Jedi</td>\n",
       "      <td>$317,000,000</td>\n",
       "      <td>$620,181,382</td>\n",
       "      <td>$1,316,721,747</td>\n",
       "    </tr>\n",
       "  </tbody>\n",
       "</table>\n",
       "</div>"
      ],
      "text/plain": [
       "   id  release_date                                        movie  \\\n",
       "0   1  Dec 18, 2009                                       Avatar   \n",
       "1   2  May 20, 2011  Pirates of the Caribbean: On Stranger Tides   \n",
       "2   3   Jun 7, 2019                                 Dark Phoenix   \n",
       "3   4   May 1, 2015                      Avengers: Age of Ultron   \n",
       "4   5  Dec 15, 2017            Star Wars Ep. VIII: The Last Jedi   \n",
       "\n",
       "  production_budget domestic_gross worldwide_gross  \n",
       "0      $425,000,000   $760,507,625  $2,776,345,279  \n",
       "1      $410,600,000   $241,063,875  $1,045,663,875  \n",
       "2      $350,000,000    $42,762,350    $149,762,350  \n",
       "3      $330,600,000   $459,005,868  $1,403,013,963  \n",
       "4      $317,000,000   $620,181,382  $1,316,721,747  "
      ]
     },
     "execution_count": 14,
     "metadata": {},
     "output_type": "execute_result"
    }
   ],
   "source": [
    "#Starting with movie budget dataframe\n",
    "\n",
    "movie_budget_df.head()"
   ]
  },
  {
   "cell_type": "code",
   "execution_count": 17,
   "metadata": {},
   "outputs": [],
   "source": [
    "#Removing commas and $ sign in the object values to int64\n",
    "\n",
    "movie_budget_df['production_budget'] = movie_budget_df['production_budget'].str.replace('$','').str.replace(',','').astype(np.int64)\n",
    "movie_budget_df['domestic_gross'] = movie_budget_df['domestic_gross'].str.replace('$','').str.replace(',','').astype(np.int64)\n",
    "movie_budget_df['worldwide_gross'] = movie_budget_df['worldwide_gross'].str.replace('$','').str.replace(',','').astype(np.int64)\n"
   ]
  },
  {
   "cell_type": "code",
   "execution_count": 19,
   "metadata": {},
   "outputs": [],
   "source": [
    "#We have defined \n",
    "#Creating a Financial Metrics column \"Profit\"\n",
    "\n",
    "movie_budget_df['profit'] = movie_budget_df['worldwide_gross'] - movie_budget_df['production_budget']"
   ]
  },
  {
   "cell_type": "code",
   "execution_count": 29,
   "metadata": {},
   "outputs": [
    {
     "data": {
      "text/html": [
       "<div>\n",
       "<style scoped>\n",
       "    .dataframe tbody tr th:only-of-type {\n",
       "        vertical-align: middle;\n",
       "    }\n",
       "\n",
       "    .dataframe tbody tr th {\n",
       "        vertical-align: top;\n",
       "    }\n",
       "\n",
       "    .dataframe thead th {\n",
       "        text-align: right;\n",
       "    }\n",
       "</style>\n",
       "<table border=\"1\" class=\"dataframe\">\n",
       "  <thead>\n",
       "    <tr style=\"text-align: right;\">\n",
       "      <th></th>\n",
       "      <th>id</th>\n",
       "      <th>release_date</th>\n",
       "      <th>movie</th>\n",
       "      <th>production_budget</th>\n",
       "      <th>domestic_gross</th>\n",
       "      <th>worldwide_gross</th>\n",
       "      <th>profit</th>\n",
       "      <th>movie_id</th>\n",
       "      <th>primary_title</th>\n",
       "      <th>original_title</th>\n",
       "      <th>start_year</th>\n",
       "      <th>runtime_minutes</th>\n",
       "      <th>genres</th>\n",
       "    </tr>\n",
       "  </thead>\n",
       "  <tbody>\n",
       "    <tr>\n",
       "      <th>0</th>\n",
       "      <td>1</td>\n",
       "      <td>Dec 18, 2009</td>\n",
       "      <td>Avatar</td>\n",
       "      <td>425000000</td>\n",
       "      <td>760507625</td>\n",
       "      <td>2776345279</td>\n",
       "      <td>2351345279</td>\n",
       "      <td>tt1775309</td>\n",
       "      <td>Avatar</td>\n",
       "      <td>Abatâ</td>\n",
       "      <td>2011</td>\n",
       "      <td>93.0</td>\n",
       "      <td>Horror</td>\n",
       "    </tr>\n",
       "    <tr>\n",
       "      <th>1</th>\n",
       "      <td>2</td>\n",
       "      <td>May 20, 2011</td>\n",
       "      <td>Pirates of the Caribbean: On Stranger Tides</td>\n",
       "      <td>410600000</td>\n",
       "      <td>241063875</td>\n",
       "      <td>1045663875</td>\n",
       "      <td>635063875</td>\n",
       "      <td>tt1298650</td>\n",
       "      <td>Pirates of the Caribbean: On Stranger Tides</td>\n",
       "      <td>Pirates of the Caribbean: On Stranger Tides</td>\n",
       "      <td>2011</td>\n",
       "      <td>136.0</td>\n",
       "      <td>Action,Adventure,Fantasy</td>\n",
       "    </tr>\n",
       "    <tr>\n",
       "      <th>2</th>\n",
       "      <td>3</td>\n",
       "      <td>Jun 7, 2019</td>\n",
       "      <td>Dark Phoenix</td>\n",
       "      <td>350000000</td>\n",
       "      <td>42762350</td>\n",
       "      <td>149762350</td>\n",
       "      <td>-200237650</td>\n",
       "      <td>tt6565702</td>\n",
       "      <td>Dark Phoenix</td>\n",
       "      <td>Dark Phoenix</td>\n",
       "      <td>2019</td>\n",
       "      <td>113.0</td>\n",
       "      <td>Action,Adventure,Sci-Fi</td>\n",
       "    </tr>\n",
       "    <tr>\n",
       "      <th>3</th>\n",
       "      <td>4</td>\n",
       "      <td>May 1, 2015</td>\n",
       "      <td>Avengers: Age of Ultron</td>\n",
       "      <td>330600000</td>\n",
       "      <td>459005868</td>\n",
       "      <td>1403013963</td>\n",
       "      <td>1072413963</td>\n",
       "      <td>tt2395427</td>\n",
       "      <td>Avengers: Age of Ultron</td>\n",
       "      <td>Avengers: Age of Ultron</td>\n",
       "      <td>2015</td>\n",
       "      <td>141.0</td>\n",
       "      <td>Action,Adventure,Sci-Fi</td>\n",
       "    </tr>\n",
       "    <tr>\n",
       "      <th>4</th>\n",
       "      <td>7</td>\n",
       "      <td>Apr 27, 2018</td>\n",
       "      <td>Avengers: Infinity War</td>\n",
       "      <td>300000000</td>\n",
       "      <td>678815482</td>\n",
       "      <td>2048134200</td>\n",
       "      <td>1748134200</td>\n",
       "      <td>tt4154756</td>\n",
       "      <td>Avengers: Infinity War</td>\n",
       "      <td>Avengers: Infinity War</td>\n",
       "      <td>2018</td>\n",
       "      <td>149.0</td>\n",
       "      <td>Action,Adventure,Sci-Fi</td>\n",
       "    </tr>\n",
       "    <tr>\n",
       "      <th>...</th>\n",
       "      <td>...</td>\n",
       "      <td>...</td>\n",
       "      <td>...</td>\n",
       "      <td>...</td>\n",
       "      <td>...</td>\n",
       "      <td>...</td>\n",
       "      <td>...</td>\n",
       "      <td>...</td>\n",
       "      <td>...</td>\n",
       "      <td>...</td>\n",
       "      <td>...</td>\n",
       "      <td>...</td>\n",
       "      <td>...</td>\n",
       "    </tr>\n",
       "    <tr>\n",
       "      <th>3810</th>\n",
       "      <td>68</td>\n",
       "      <td>Jul 6, 2001</td>\n",
       "      <td>Cure</td>\n",
       "      <td>10000</td>\n",
       "      <td>94596</td>\n",
       "      <td>94596</td>\n",
       "      <td>84596</td>\n",
       "      <td>tt5936960</td>\n",
       "      <td>Cure</td>\n",
       "      <td>Cure</td>\n",
       "      <td>2014</td>\n",
       "      <td>NaN</td>\n",
       "      <td>None</td>\n",
       "    </tr>\n",
       "    <tr>\n",
       "      <th>3811</th>\n",
       "      <td>70</td>\n",
       "      <td>Apr 1, 1996</td>\n",
       "      <td>Bang</td>\n",
       "      <td>10000</td>\n",
       "      <td>527</td>\n",
       "      <td>527</td>\n",
       "      <td>-9473</td>\n",
       "      <td>tt6616538</td>\n",
       "      <td>Bang</td>\n",
       "      <td>Bang</td>\n",
       "      <td>2015</td>\n",
       "      <td>NaN</td>\n",
       "      <td>None</td>\n",
       "    </tr>\n",
       "    <tr>\n",
       "      <th>3812</th>\n",
       "      <td>73</td>\n",
       "      <td>Jan 13, 2012</td>\n",
       "      <td>Newlyweds</td>\n",
       "      <td>9000</td>\n",
       "      <td>4584</td>\n",
       "      <td>4584</td>\n",
       "      <td>-4416</td>\n",
       "      <td>tt1880418</td>\n",
       "      <td>Newlyweds</td>\n",
       "      <td>Newlyweds</td>\n",
       "      <td>2011</td>\n",
       "      <td>95.0</td>\n",
       "      <td>Comedy,Drama</td>\n",
       "    </tr>\n",
       "    <tr>\n",
       "      <th>3813</th>\n",
       "      <td>78</td>\n",
       "      <td>Dec 31, 2018</td>\n",
       "      <td>Red 11</td>\n",
       "      <td>7000</td>\n",
       "      <td>0</td>\n",
       "      <td>0</td>\n",
       "      <td>-7000</td>\n",
       "      <td>tt7837402</td>\n",
       "      <td>Red 11</td>\n",
       "      <td>Red 11</td>\n",
       "      <td>2019</td>\n",
       "      <td>77.0</td>\n",
       "      <td>Horror,Sci-Fi,Thriller</td>\n",
       "    </tr>\n",
       "    <tr>\n",
       "      <th>3814</th>\n",
       "      <td>81</td>\n",
       "      <td>Sep 29, 2015</td>\n",
       "      <td>A Plague So Pleasant</td>\n",
       "      <td>1400</td>\n",
       "      <td>0</td>\n",
       "      <td>0</td>\n",
       "      <td>-1400</td>\n",
       "      <td>tt2107644</td>\n",
       "      <td>A Plague So Pleasant</td>\n",
       "      <td>A Plague So Pleasant</td>\n",
       "      <td>2013</td>\n",
       "      <td>76.0</td>\n",
       "      <td>Drama,Horror,Thriller</td>\n",
       "    </tr>\n",
       "  </tbody>\n",
       "</table>\n",
       "<p>3815 rows × 13 columns</p>\n",
       "</div>"
      ],
      "text/plain": [
       "      id  release_date                                        movie  \\\n",
       "0      1  Dec 18, 2009                                       Avatar   \n",
       "1      2  May 20, 2011  Pirates of the Caribbean: On Stranger Tides   \n",
       "2      3   Jun 7, 2019                                 Dark Phoenix   \n",
       "3      4   May 1, 2015                      Avengers: Age of Ultron   \n",
       "4      7  Apr 27, 2018                       Avengers: Infinity War   \n",
       "...   ..           ...                                          ...   \n",
       "3810  68   Jul 6, 2001                                         Cure   \n",
       "3811  70   Apr 1, 1996                                         Bang   \n",
       "3812  73  Jan 13, 2012                                    Newlyweds   \n",
       "3813  78  Dec 31, 2018                                       Red 11   \n",
       "3814  81  Sep 29, 2015                         A Plague So Pleasant   \n",
       "\n",
       "      production_budget  domestic_gross  worldwide_gross      profit  \\\n",
       "0             425000000       760507625       2776345279  2351345279   \n",
       "1             410600000       241063875       1045663875   635063875   \n",
       "2             350000000        42762350        149762350  -200237650   \n",
       "3             330600000       459005868       1403013963  1072413963   \n",
       "4             300000000       678815482       2048134200  1748134200   \n",
       "...                 ...             ...              ...         ...   \n",
       "3810              10000           94596            94596       84596   \n",
       "3811              10000             527              527       -9473   \n",
       "3812               9000            4584             4584       -4416   \n",
       "3813               7000               0                0       -7000   \n",
       "3814               1400               0                0       -1400   \n",
       "\n",
       "       movie_id                                primary_title  \\\n",
       "0     tt1775309                                       Avatar   \n",
       "1     tt1298650  Pirates of the Caribbean: On Stranger Tides   \n",
       "2     tt6565702                                 Dark Phoenix   \n",
       "3     tt2395427                      Avengers: Age of Ultron   \n",
       "4     tt4154756                       Avengers: Infinity War   \n",
       "...         ...                                          ...   \n",
       "3810  tt5936960                                         Cure   \n",
       "3811  tt6616538                                         Bang   \n",
       "3812  tt1880418                                    Newlyweds   \n",
       "3813  tt7837402                                       Red 11   \n",
       "3814  tt2107644                         A Plague So Pleasant   \n",
       "\n",
       "                                   original_title  start_year  \\\n",
       "0                                           Abatâ        2011   \n",
       "1     Pirates of the Caribbean: On Stranger Tides        2011   \n",
       "2                                    Dark Phoenix        2019   \n",
       "3                         Avengers: Age of Ultron        2015   \n",
       "4                          Avengers: Infinity War        2018   \n",
       "...                                           ...         ...   \n",
       "3810                                         Cure        2014   \n",
       "3811                                         Bang        2015   \n",
       "3812                                    Newlyweds        2011   \n",
       "3813                                       Red 11        2019   \n",
       "3814                         A Plague So Pleasant        2013   \n",
       "\n",
       "      runtime_minutes                    genres  \n",
       "0                93.0                    Horror  \n",
       "1               136.0  Action,Adventure,Fantasy  \n",
       "2               113.0   Action,Adventure,Sci-Fi  \n",
       "3               141.0   Action,Adventure,Sci-Fi  \n",
       "4               149.0   Action,Adventure,Sci-Fi  \n",
       "...               ...                       ...  \n",
       "3810              NaN                      None  \n",
       "3811              NaN                      None  \n",
       "3812             95.0              Comedy,Drama  \n",
       "3813             77.0    Horror,Sci-Fi,Thriller  \n",
       "3814             76.0     Drama,Horror,Thriller  \n",
       "\n",
       "[3815 rows x 13 columns]"
      ]
     },
     "execution_count": 29,
     "metadata": {},
     "output_type": "execute_result"
    }
   ],
   "source": [
    "#Combining Movie Budget Database with IMDB information\n",
    "\n",
    "df_merged_mb = movie_budget_df.merge(df_movie_imdb, left_on='movie', right_on='primary_title')\n",
    "\n",
    "df_merged_mb"
   ]
  },
  {
   "cell_type": "code",
   "execution_count": 30,
   "metadata": {},
   "outputs": [
    {
     "data": {
      "text/plain": [
       "tt2075392    3\n",
       "tt5884960    3\n",
       "tt2089701    3\n",
       "tt4047846    3\n",
       "tt2224026    3\n",
       "            ..\n",
       "tt4698684    1\n",
       "tt1355683    1\n",
       "tt5770620    1\n",
       "tt1053810    1\n",
       "tt1411250    1\n",
       "Name: movie_id, Length: 3606, dtype: int64"
      ]
     },
     "execution_count": 30,
     "metadata": {},
     "output_type": "execute_result"
    }
   ],
   "source": [
    "#We notice here that there are some duplicates\n",
    "\n",
    "df_merged_mb['movie_id'].value_counts()"
   ]
  },
  {
   "cell_type": "code",
   "execution_count": 31,
   "metadata": {},
   "outputs": [
    {
     "data": {
      "text/html": [
       "<div>\n",
       "<style scoped>\n",
       "    .dataframe tbody tr th:only-of-type {\n",
       "        vertical-align: middle;\n",
       "    }\n",
       "\n",
       "    .dataframe tbody tr th {\n",
       "        vertical-align: top;\n",
       "    }\n",
       "\n",
       "    .dataframe thead th {\n",
       "        text-align: right;\n",
       "    }\n",
       "</style>\n",
       "<table border=\"1\" class=\"dataframe\">\n",
       "  <thead>\n",
       "    <tr style=\"text-align: right;\">\n",
       "      <th></th>\n",
       "      <th>id</th>\n",
       "      <th>release_date</th>\n",
       "      <th>movie</th>\n",
       "      <th>production_budget</th>\n",
       "      <th>domestic_gross</th>\n",
       "      <th>worldwide_gross</th>\n",
       "      <th>profit</th>\n",
       "      <th>movie_id</th>\n",
       "      <th>primary_title</th>\n",
       "      <th>original_title</th>\n",
       "      <th>start_year</th>\n",
       "      <th>runtime_minutes</th>\n",
       "      <th>genres</th>\n",
       "    </tr>\n",
       "  </thead>\n",
       "  <tbody>\n",
       "    <tr>\n",
       "      <th>207</th>\n",
       "      <td>44</td>\n",
       "      <td>Mar 27, 2015</td>\n",
       "      <td>Home</td>\n",
       "      <td>130000000</td>\n",
       "      <td>177397510</td>\n",
       "      <td>385997896</td>\n",
       "      <td>255997896</td>\n",
       "      <td>tt2075392</td>\n",
       "      <td>Home</td>\n",
       "      <td>Yurt</td>\n",
       "      <td>2011</td>\n",
       "      <td>76.0</td>\n",
       "      <td>Drama</td>\n",
       "    </tr>\n",
       "    <tr>\n",
       "      <th>231</th>\n",
       "      <td>56</td>\n",
       "      <td>Jun 5, 2009</td>\n",
       "      <td>Home</td>\n",
       "      <td>12000000</td>\n",
       "      <td>0</td>\n",
       "      <td>0</td>\n",
       "      <td>-12000000</td>\n",
       "      <td>tt2075392</td>\n",
       "      <td>Home</td>\n",
       "      <td>Yurt</td>\n",
       "      <td>2011</td>\n",
       "      <td>76.0</td>\n",
       "      <td>Drama</td>\n",
       "    </tr>\n",
       "    <tr>\n",
       "      <th>255</th>\n",
       "      <td>60</td>\n",
       "      <td>Apr 23, 2009</td>\n",
       "      <td>Home</td>\n",
       "      <td>500000</td>\n",
       "      <td>15433</td>\n",
       "      <td>44793168</td>\n",
       "      <td>44293168</td>\n",
       "      <td>tt2075392</td>\n",
       "      <td>Home</td>\n",
       "      <td>Yurt</td>\n",
       "      <td>2011</td>\n",
       "      <td>76.0</td>\n",
       "      <td>Drama</td>\n",
       "    </tr>\n",
       "  </tbody>\n",
       "</table>\n",
       "</div>"
      ],
      "text/plain": [
       "     id  release_date movie  production_budget  domestic_gross  \\\n",
       "207  44  Mar 27, 2015  Home          130000000       177397510   \n",
       "231  56   Jun 5, 2009  Home           12000000               0   \n",
       "255  60  Apr 23, 2009  Home             500000           15433   \n",
       "\n",
       "     worldwide_gross     profit   movie_id primary_title original_title  \\\n",
       "207        385997896  255997896  tt2075392          Home           Yurt   \n",
       "231                0  -12000000  tt2075392          Home           Yurt   \n",
       "255         44793168   44293168  tt2075392          Home           Yurt   \n",
       "\n",
       "     start_year  runtime_minutes genres  \n",
       "207        2011             76.0  Drama  \n",
       "231        2011             76.0  Drama  \n",
       "255        2011             76.0  Drama  "
      ]
     },
     "execution_count": 31,
     "metadata": {},
     "output_type": "execute_result"
    }
   ],
   "source": [
    "#We investicate the duplicates for movie id 'tt2075392'\n",
    "df_merged_mb[df_merged_mb['movie_id'] == 'tt2075392']\n",
    "\n",
    "#This looks fine but we do a second check"
   ]
  },
  {
   "cell_type": "code",
   "execution_count": 35,
   "metadata": {},
   "outputs": [
    {
     "data": {
      "text/html": [
       "<div>\n",
       "<style scoped>\n",
       "    .dataframe tbody tr th:only-of-type {\n",
       "        vertical-align: middle;\n",
       "    }\n",
       "\n",
       "    .dataframe tbody tr th {\n",
       "        vertical-align: top;\n",
       "    }\n",
       "\n",
       "    .dataframe thead th {\n",
       "        text-align: right;\n",
       "    }\n",
       "</style>\n",
       "<table border=\"1\" class=\"dataframe\">\n",
       "  <thead>\n",
       "    <tr style=\"text-align: right;\">\n",
       "      <th></th>\n",
       "      <th>id</th>\n",
       "      <th>release_date</th>\n",
       "      <th>movie</th>\n",
       "      <th>production_budget</th>\n",
       "      <th>domestic_gross</th>\n",
       "      <th>worldwide_gross</th>\n",
       "      <th>profit</th>\n",
       "      <th>movie_id</th>\n",
       "      <th>primary_title</th>\n",
       "      <th>original_title</th>\n",
       "      <th>start_year</th>\n",
       "      <th>runtime_minutes</th>\n",
       "      <th>genres</th>\n",
       "    </tr>\n",
       "  </thead>\n",
       "  <tbody>\n",
       "    <tr>\n",
       "      <th>224</th>\n",
       "      <td>44</td>\n",
       "      <td>Mar 27, 2015</td>\n",
       "      <td>Home</td>\n",
       "      <td>130000000</td>\n",
       "      <td>177397510</td>\n",
       "      <td>385997896</td>\n",
       "      <td>255997896</td>\n",
       "      <td>tt5884960</td>\n",
       "      <td>Home</td>\n",
       "      <td>Home</td>\n",
       "      <td>2015</td>\n",
       "      <td>58.0</td>\n",
       "      <td>Documentary</td>\n",
       "    </tr>\n",
       "    <tr>\n",
       "      <th>248</th>\n",
       "      <td>56</td>\n",
       "      <td>Jun 5, 2009</td>\n",
       "      <td>Home</td>\n",
       "      <td>12000000</td>\n",
       "      <td>0</td>\n",
       "      <td>0</td>\n",
       "      <td>-12000000</td>\n",
       "      <td>tt5884960</td>\n",
       "      <td>Home</td>\n",
       "      <td>Home</td>\n",
       "      <td>2015</td>\n",
       "      <td>58.0</td>\n",
       "      <td>Documentary</td>\n",
       "    </tr>\n",
       "    <tr>\n",
       "      <th>272</th>\n",
       "      <td>60</td>\n",
       "      <td>Apr 23, 2009</td>\n",
       "      <td>Home</td>\n",
       "      <td>500000</td>\n",
       "      <td>15433</td>\n",
       "      <td>44793168</td>\n",
       "      <td>44293168</td>\n",
       "      <td>tt5884960</td>\n",
       "      <td>Home</td>\n",
       "      <td>Home</td>\n",
       "      <td>2015</td>\n",
       "      <td>58.0</td>\n",
       "      <td>Documentary</td>\n",
       "    </tr>\n",
       "  </tbody>\n",
       "</table>\n",
       "</div>"
      ],
      "text/plain": [
       "     id  release_date movie  production_budget  domestic_gross  \\\n",
       "224  44  Mar 27, 2015  Home          130000000       177397510   \n",
       "248  56   Jun 5, 2009  Home           12000000               0   \n",
       "272  60  Apr 23, 2009  Home             500000           15433   \n",
       "\n",
       "     worldwide_gross     profit   movie_id primary_title original_title  \\\n",
       "224        385997896  255997896  tt5884960          Home           Home   \n",
       "248                0  -12000000  tt5884960          Home           Home   \n",
       "272         44793168   44293168  tt5884960          Home           Home   \n",
       "\n",
       "     start_year  runtime_minutes       genres  \n",
       "224        2015             58.0  Documentary  \n",
       "248        2015             58.0  Documentary  \n",
       "272        2015             58.0  Documentary  "
      ]
     },
     "execution_count": 35,
     "metadata": {},
     "output_type": "execute_result"
    }
   ],
   "source": [
    "#As sanity check, we investicate the duplicates for movie id 'tt5884960'\n",
    "df_merged_mb[df_merged_mb['movie_id'] == 'tt5884960']\n",
    "\n",
    "#We find there is something weird going on with this data where the release dates, \n",
    "#movie types, and production budget columns have the same pattern"
   ]
  },
  {
   "cell_type": "code",
   "execution_count": 36,
   "metadata": {},
   "outputs": [],
   "source": [
    "#To correct for the odd data, we filter out the movie type \"Home\"\n",
    "df_merged_mb = df_merged_mb[df_merged_mb['movie'] != 'Home']\n"
   ]
  },
  {
   "cell_type": "code",
   "execution_count": 37,
   "metadata": {},
   "outputs": [],
   "source": [
    "#Our team decided filtering by production budget is needed to weed out homemade movies\n",
    "#As such, we look at movies with production budget over $1 million.\n",
    "\n",
    "df_merged_mb = df_merged_mb[df_merged_mb['production_budget'] >= 1000000]"
   ]
  },
  {
   "cell_type": "code",
   "execution_count": 38,
   "metadata": {},
   "outputs": [
    {
     "name": "stdout",
     "output_type": "stream",
     "text": [
      "<class 'pandas.core.frame.DataFrame'>\n",
      "Int64Index: 3424 entries, 0 to 3520\n",
      "Data columns (total 13 columns):\n",
      " #   Column             Non-Null Count  Dtype  \n",
      "---  ------             --------------  -----  \n",
      " 0   id                 3424 non-null   int64  \n",
      " 1   release_date       3424 non-null   object \n",
      " 2   movie              3424 non-null   object \n",
      " 3   production_budget  3424 non-null   int64  \n",
      " 4   domestic_gross     3424 non-null   int64  \n",
      " 5   worldwide_gross    3424 non-null   int64  \n",
      " 6   profit             3424 non-null   int64  \n",
      " 7   movie_id           3424 non-null   object \n",
      " 8   primary_title      3424 non-null   object \n",
      " 9   original_title     3423 non-null   object \n",
      " 10  start_year         3424 non-null   int64  \n",
      " 11  runtime_minutes    2986 non-null   float64\n",
      " 12  genres             3365 non-null   object \n",
      "dtypes: float64(1), int64(6), object(6)\n",
      "memory usage: 374.5+ KB\n"
     ]
    }
   ],
   "source": [
    "df_merged_mb.info()"
   ]
  },
  {
   "cell_type": "code",
   "execution_count": 39,
   "metadata": {},
   "outputs": [],
   "source": [
    "#After assessing the null values, runtime_minutes are not necessary for our analysis\n",
    "#To do the final clean up of the merged dataframe, we drop the null values in the genres category.\n",
    "\n",
    "df_merged_mb = df_merged_mb.dropna(subset = ['genres'])"
   ]
  },
  {
   "cell_type": "markdown",
   "metadata": {},
   "source": [
    "<hr style=\"border:2px solid gray\">"
   ]
  },
  {
   "cell_type": "markdown",
   "metadata": {},
   "source": [
    "# Business Recommendations"
   ]
  },
  {
   "cell_type": "markdown",
   "metadata": {},
   "source": [
    "##  Analysis Part 1 - Effect of Film Rating on Box Office Revenue"
   ]
  },
  {
   "cell_type": "markdown",
   "metadata": {},
   "source": [
    "This section analyzes the financial performance (i.e., box office revenue) between the R and non-R rated films. "
   ]
  },
  {
   "cell_type": "code",
   "execution_count": 43,
   "metadata": {},
   "outputs": [],
   "source": [
    "#Getting box office values for R and non-R categories\n",
    "R = movie_info_df[movie_info_df['rating'] == 'R']['box_office_clean'].values\n",
    "non_R = movie_info_df[movie_info_df['rating'] == 'Non-R']['box_office_clean'].values"
   ]
  },
  {
   "cell_type": "code",
   "execution_count": 44,
   "metadata": {},
   "outputs": [],
   "source": [
    "#Creating samples for each category\n",
    "\n",
    "sample_R = np.random.choice(R, size=100, replace=False)\n",
    "sample_non_R = np.random.choice(non_R, size=100, replace=False)"
   ]
  },
  {
   "cell_type": "code",
   "execution_count": 45,
   "metadata": {},
   "outputs": [],
   "source": [
    "sample_R_mean = sample_R.mean()\n",
    "sample_non_R_mean = sample_non_R.mean()"
   ]
  },
  {
   "cell_type": "code",
   "execution_count": 46,
   "metadata": {},
   "outputs": [
    {
     "data": {
      "image/png": "[encoded data removed]",
      "text/plain": [
       "<Figure size 864x288 with 2 Axes>"
      ]
     },
     "metadata": {
      "needs_background": "light"
     },
     "output_type": "display_data"
    }
   ],
   "source": [
    "#Visuals - bar charts\n",
    "fig, (ax1, ax2) = plt.subplots(1, 2, figsize=(12, 4))\n",
    "\n",
    "bin_size = 9\n",
    "\n",
    "ax1.set_title('Sample of R-rated Movies')\n",
    "ax1.set_xlabel('Box Office Revenue')\n",
    "ax1.set_ylabel('Frequency')\n",
    "ax1.hist(sample_R, bins = bin_size)\n",
    "\n",
    "ax1.axvline(x=sample_R_mean, color='red', linestyle='--', linewidth=2, label='Mean')\n",
    "\n",
    "ax2.set_title('Sample of Non-R-rated Movies')\n",
    "ax2.set_xlabel('Box Office Revenue')\n",
    "ax2.set_ylabel('Frequency')\n",
    "ax2.hist(sample_non_R, bins = bin_size)\n",
    "\n",
    "ax2.axvline(x=sample_non_R_mean, color='red', linestyle='--', linewidth=2, label='Mean')\n",
    "\n",
    "max_x = max(max(sample_R), max(sample_non_R)) + 10000000\n",
    "max_y = 90\n",
    "\n",
    "ax1.set_xlim(0, max_x)\n",
    "ax1.set_ylim(0, max_y)\n",
    "ax2.set_xlim(0, max_x)\n",
    "ax2.set_ylim(0, max_y)\n",
    "\n",
    "plt.show();"
   ]
  },
  {
   "cell_type": "markdown",
   "metadata": {},
   "source": [
    "#### Observation\n",
    "- Mean of non-R rated movies is greater than mean of R-rated movies based on the samples. In order to validate the aforementioned statement, a two-sample T-test will be performed. "
   ]
  },
  {
   "cell_type": "markdown",
   "metadata": {},
   "source": [
    "#### Hypothesis\n",
    "- **Null Hypothesis:** R-rated movies bring in greater or equal box office revenue than Non-R-rated movies\n",
    "- **Alternative Hypothesis:** R-rated movies bring in less box office revenue than Non-R-rated movies"
   ]
  },
  {
   "cell_type": "code",
   "execution_count": 47,
   "metadata": {},
   "outputs": [
    {
     "data": {
      "text/plain": [
       "0.002032493645833144"
      ]
     },
     "execution_count": 47,
     "metadata": {},
     "output_type": "execute_result"
    }
   ],
   "source": [
    "#Two sample t-test\n",
    "pvalue = stats.ttest_ind(sample_R, sample_non_R, equal_var = False).pvalue / 2\n",
    "pvalue"
   ]
  },
  {
   "cell_type": "markdown",
   "metadata": {},
   "source": [
    "### Conclusion\n",
    "\n",
    "We've set our alpha to be 0.05. As the p-value above is lower than alpha, we reject the null hypothesis and conclude that R-rated movies bring in less box office revenue than Non-R movies. Therefore, it will be beneficial for the Company to pursue non-R movies."
   ]
  },
  {
   "cell_type": "markdown",
   "metadata": {},
   "source": [
    "### Limitations to the Analysis\n",
    "- Do NOT filter for movie release date. Considering all data points in the data set due to limited data\n",
    "- Do NOT adjust for inflation for the box office revenue\n",
    "- Do NOT account for the budget of each title"
   ]
  },
  {
   "cell_type": "markdown",
   "metadata": {},
   "source": [
    "##  Analysis Part 1a - Additional Analysis on a Specific Genre\n",
    "To investigate whether the conclusion drawn from the first analysis may differ for a given genre, the team has conducted additional analyses focusing on two top genres (i.e., Adventure and Action)."
   ]
  },
  {
   "cell_type": "markdown",
   "metadata": {},
   "source": [
    "### Action Movies"
   ]
  },
  {
   "cell_type": "code",
   "execution_count": 48,
   "metadata": {},
   "outputs": [],
   "source": [
    "# R Action movies vs Non-R Action movies\n",
    "R_Action = movie_info_df[(movie_info_df['genre'].str.contains('Action')) \n",
    "                         & (movie_info_df['rating'] == 'R')]['box_office_clean'].values\n",
    "Non_R_Action = movie_info_df[(movie_info_df['genre'].str.contains('Action')) \n",
    "                             & (movie_info_df['rating'] == 'Non-R')]['box_office_clean'].values"
   ]
  },
  {
   "cell_type": "code",
   "execution_count": 49,
   "metadata": {},
   "outputs": [],
   "source": [
    "#Taking samples\n",
    "R_Action_sample = np.random.choice(R_Action, size=20, replace=False)\n",
    "Non_R_Action_sample = np.random.choice(Non_R_Action, size=20, replace=False)"
   ]
  },
  {
   "cell_type": "code",
   "execution_count": 50,
   "metadata": {},
   "outputs": [],
   "source": [
    "R_Action_sample_mean = R_Action_sample.mean()\n",
    "Non_R_Action_sample_mean = Non_R_Action_sample.mean()"
   ]
  },
  {
   "cell_type": "code",
   "execution_count": 51,
   "metadata": {},
   "outputs": [
    {
     "data": {
      "image/png": "[encoded data removed]",
      "text/plain": [
       "<Figure size 864x288 with 2 Axes>"
      ]
     },
     "metadata": {
      "needs_background": "light"
     },
     "output_type": "display_data"
    }
   ],
   "source": [
    "# Visualization\n",
    "fig, (ax1, ax2) = plt.subplots(1, 2, figsize=(12, 4))\n",
    "\n",
    "bin_size = 10\n",
    "\n",
    "ax1.set_title('Sample of R-rated Action Movies')\n",
    "ax1.set_xlabel('Box Office Revenue')\n",
    "ax1.set_ylabel('Frequency')\n",
    "ax1.hist(R_Action_sample, bins = bin_size)\n",
    "\n",
    "ax1.axvline(x=R_Action_sample_mean, color='red', linestyle='--', linewidth=2, label='Mean')\n",
    "\n",
    "ax2.set_title('Sample of Non-R-rated Action Movies')\n",
    "ax2.set_xlabel('Box Office Revenue')\n",
    "ax2.set_ylabel('Frequency')\n",
    "ax2.hist(Non_R_Action_sample, bins = bin_size)\n",
    "\n",
    "ax2.axvline(x=Non_R_Action_sample_mean, color='red', linestyle='--', linewidth=2, label='Mean')\n",
    "\n",
    "max_x = max(max(R_Action_sample), max(Non_R_Action_sample)) + 10000000\n",
    "max_y = 25\n",
    "\n",
    "ax1.set_xlim(0, max_x)\n",
    "ax1.set_ylim(0, max_y)\n",
    "ax2.set_xlim(0, max_x)\n",
    "ax2.set_ylim(0, max_y)\n",
    "\n",
    "plt.show();"
   ]
  },
  {
   "cell_type": "markdown",
   "metadata": {},
   "source": [
    "#### Observation\n",
    "- Mean of non-R rated Action movies is greater than mean of R-rated Action movies based on the samples. In order to validate the aforementioned statement, a two-sample T-test will be performed. "
   ]
  },
  {
   "cell_type": "markdown",
   "metadata": {},
   "source": [
    "#### Hypothesis\n",
    "- ***Null Hypothesis:*** R-rated Action movies bring in greater or equal box office revenue than Non-R-rated Action movies\n",
    "- ***Alternative Hypothesis:*** R-rated Action movies bring in less box office revenue than Non-R-rated Action movies"
   ]
  },
  {
   "cell_type": "code",
   "execution_count": 52,
   "metadata": {},
   "outputs": [
    {
     "data": {
      "text/plain": [
       "0.0010134582074435342"
      ]
     },
     "execution_count": 52,
     "metadata": {},
     "output_type": "execute_result"
    }
   ],
   "source": [
    "#Two sample t-test\n",
    "pvalue = stats.ttest_ind(R_Action_sample, Non_R_Action_sample, equal_var = False).pvalue / 2\n",
    "pvalue"
   ]
  },
  {
   "cell_type": "markdown",
   "metadata": {},
   "source": [
    "### Conclusion\n",
    "\n",
    "We've set our alpha to be 0.05. As the p-value above is lower than alpha, we reject the null hypothesis and conclude that R-rated Action movies bring in less box office revenue than Non-R Action movies. Therefore, it will be beneficial for the Company to pursue non-R movies."
   ]
  },
  {
   "cell_type": "markdown",
   "metadata": {},
   "source": [
    "### Adventure Movies"
   ]
  },
  {
   "cell_type": "code",
   "execution_count": 53,
   "metadata": {},
   "outputs": [],
   "source": [
    "# R Adventure movies vs Non-R Adventure movies\n",
    "R_Adventure = movie_info_df[(movie_info_df['genre'].str.contains('Adventure')) \n",
    "                         & (movie_info_df['rating'] == 'R')]['box_office_clean'].values\n",
    "Non_R_Adventure = movie_info_df[(movie_info_df['genre'].str.contains('Adventure')) \n",
    "                             & (movie_info_df['rating'] == 'Non-R')]['box_office_clean'].values"
   ]
  },
  {
   "cell_type": "code",
   "execution_count": 54,
   "metadata": {},
   "outputs": [],
   "source": [
    "#Taking samples\n",
    "R_Adventure_sample = np.random.choice(R_Adventure, size=20, replace=False)\n",
    "Non_R_Adventure_sample = np.random.choice(Non_R_Adventure, size=20, replace=False)"
   ]
  },
  {
   "cell_type": "code",
   "execution_count": 55,
   "metadata": {},
   "outputs": [],
   "source": [
    "R_Adventure_sample_mean = R_Adventure_sample.mean()\n",
    "Non_R_Adventure_sample_mean = Non_R_Adventure_sample.mean()"
   ]
  },
  {
   "cell_type": "code",
   "execution_count": 56,
   "metadata": {},
   "outputs": [
    {
     "data": {
      "image/png": "[encoded data removed]",
      "text/plain": [
       "<Figure size 864x288 with 2 Axes>"
      ]
     },
     "metadata": {
      "needs_background": "light"
     },
     "output_type": "display_data"
    }
   ],
   "source": [
    "# Visualization\n",
    "fig, (ax1, ax2) = plt.subplots(1, 2, figsize=(12, 4))\n",
    "\n",
    "bin_size = 10\n",
    "\n",
    "ax1.set_title('Sample of R-rated Adventure Movies')\n",
    "ax1.set_xlabel('Box Office Revenue')\n",
    "ax1.set_ylabel('Frequency')\n",
    "ax1.hist(R_Adventure_sample, bins = bin_size)\n",
    "\n",
    "ax1.axvline(x=R_Adventure_sample_mean, color='red', linestyle='--', linewidth=2, label='Mean')\n",
    "\n",
    "ax2.set_title('Sample of Non-R-rated Adventure Movies')\n",
    "ax2.set_xlabel('Box Office Revenue')\n",
    "ax2.set_ylabel('Frequency')\n",
    "ax2.hist(Non_R_Adventure_sample, bins = bin_size)\n",
    "\n",
    "ax2.axvline(x=Non_R_Adventure_sample_mean, color='red', linestyle='--', linewidth=2, label='Mean')\n",
    "\n",
    "max_x = max(max(R_Adventure_sample), max(Non_R_Adventure_sample)) + 10000000\n",
    "max_y = 25\n",
    "\n",
    "ax1.set_xlim(0, max_x)\n",
    "ax1.set_ylim(0, max_y)\n",
    "ax2.set_xlim(0, max_x)\n",
    "ax2.set_ylim(0, max_y)\n",
    "\n",
    "plt.show();"
   ]
  },
  {
   "cell_type": "markdown",
   "metadata": {},
   "source": [
    "#### Observation\n",
    "- Mean of non-R rated Adventure movies is greater than mean of R-rated Adventure movies based on the samples. In order to validate the aforementioned statement, a two-sample T-test will be performed. "
   ]
  },
  {
   "cell_type": "markdown",
   "metadata": {},
   "source": [
    "#### Hypothesis\n",
    "- ***Null Hypothesis:*** R-rated Adventure movies bring in greater or equal box office revenue than Non-R-rated Adventure movies\n",
    "- ***Alternative Hypothesis:*** R-rated Adventure movies bring in less box office revenue than Non-R-rated Adventure movies"
   ]
  },
  {
   "cell_type": "code",
   "execution_count": 57,
   "metadata": {},
   "outputs": [
    {
     "data": {
      "text/plain": [
       "0.0064745112229611206"
      ]
     },
     "execution_count": 57,
     "metadata": {},
     "output_type": "execute_result"
    }
   ],
   "source": [
    "#Two sample t-test\n",
    "pvalue = stats.ttest_ind(R_Adventure_sample, Non_R_Adventure_sample, equal_var = False).pvalue / 2\n",
    "pvalue"
   ]
  },
  {
   "cell_type": "markdown",
   "metadata": {},
   "source": [
    "### Conclusion\n",
    "\n",
    "We've set our alpha to be 0.05. As the p-value above is lower than alpha, we reject the null hypothesis and conclude that R-rated Adventure movies bring in less box office revenue than Non-R Adventure movies. Therefore, it will be beneficial for the Company to pursue non-R movies."
   ]
  },
  {
   "cell_type": "markdown",
   "metadata": {},
   "source": [
    "### First Recommendation\n",
    "\n",
    "Based on the analyses, **S-Trio Entertainment** should pursue non-R rated movies as non-R rated movies have higher box office revenue than R-rated movies regardless of genre. "
   ]
  },
  {
   "cell_type": "markdown",
   "metadata": {},
   "source": [
    "<hr style=\"border:1px solid gray\">"
   ]
  },
  {
   "cell_type": "markdown",
   "metadata": {},
   "source": [
    "## Analysis Part 2 - Profit Breakdown By Genre Category"
   ]
  },
  {
   "cell_type": "markdown",
   "metadata": {},
   "source": [
    "We next move on to the analysis of the profit breakdown by genre category."
   ]
  },
  {
   "cell_type": "code",
   "execution_count": 58,
   "metadata": {},
   "outputs": [],
   "source": [
    "# Grouping profit by comedy \n",
    "comedy_profit = df_merged_mb[df_merged_mb['genres'].str.contains('Comedy')]['profit']\n",
    "adventure_profit = df_merged_mb[df_merged_mb['genres'].str.contains('Adventure')]['profit']\n",
    "action_profit = df_merged_mb[df_merged_mb['genres'].str.contains('Action')]['profit']\n",
    "drama_profit = df_merged_mb[df_merged_mb['genres'].str.contains('Drama')]['profit']\n",
    "horror_profit = df_merged_mb[df_merged_mb['genres'].str.contains('Horror')]['profit']\n",
    "scifi_profit = df_merged_mb[df_merged_mb['genres'].str.contains('Sci-Fi')]['profit']\n",
    "musical_profit = df_merged_mb[df_merged_mb['genres'].str.contains('Musical')]['profit']"
   ]
  },
  {
   "cell_type": "code",
   "execution_count": 59,
   "metadata": {},
   "outputs": [
    {
     "data": {
      "image/png": "[encoded data removed]",
      "text/plain": [
       "<Figure size 576x432 with 1 Axes>"
      ]
     },
     "metadata": {
      "needs_background": "light"
     },
     "output_type": "display_data"
    }
   ],
   "source": [
    "# Plotting - this visualizes the distribution of profit for comedy movies \n",
    "\n",
    "plt.figure(figsize=(8, 6))\n",
    "sns.histplot(comedy_profit, color='skyblue', bins=20, kde=True)\n",
    "\n",
    "# Adding labels and title\n",
    "plt.xlabel('Profit ($)')\n",
    "plt.ylabel('Frequency')\n",
    "plt.title('Profit Distribution for Comedy Genre')\n",
    "\n",
    "# Show plot\n",
    "plt.show()"
   ]
  },
  {
   "cell_type": "code",
   "execution_count": 60,
   "metadata": {},
   "outputs": [
    {
     "data": {
      "image/png": "[encoded data removed]",
      "text/plain": [
       "<Figure size 576x432 with 1 Axes>"
      ]
     },
     "metadata": {
      "needs_background": "light"
     },
     "output_type": "display_data"
    }
   ],
   "source": [
    "# Plotting - this visualizes the distribuation of profit for adventure movies \n",
    "\n",
    "plt.figure(figsize=(8, 6))\n",
    "sns.histplot(adventure_profit, color='skyblue', bins=20, kde=True)\n",
    "\n",
    "# Adding labels and title\n",
    "plt.xlabel('Profit ($)')\n",
    "plt.ylabel('Frequency')\n",
    "plt.title('Profit Distribution for Adventure Genre')\n",
    "\n",
    "# Show plot\n",
    "plt.show()"
   ]
  },
  {
   "cell_type": "code",
   "execution_count": 61,
   "metadata": {},
   "outputs": [
    {
     "data": {
      "image/png": "[encoded data removed]",
      "text/plain": [
       "<Figure size 576x432 with 1 Axes>"
      ]
     },
     "metadata": {
      "needs_background": "light"
     },
     "output_type": "display_data"
    }
   ],
   "source": [
    "# Plotting - this visualizes the distribuation of profit for action movies \n",
    "\n",
    "plt.figure(figsize=(8, 6))\n",
    "sns.histplot(action_profit, color='skyblue', bins=20, kde=True)\n",
    "\n",
    "# Adding labels and title\n",
    "plt.xlabel('Profit ($)')\n",
    "plt.ylabel('Frequency')\n",
    "plt.title('Profit Distribution for Action Genre')\n",
    "\n",
    "# Show plot\n",
    "plt.show()"
   ]
  },
  {
   "cell_type": "code",
   "execution_count": 62,
   "metadata": {},
   "outputs": [
    {
     "name": "stdout",
     "output_type": "stream",
     "text": [
      "75222558.21141374\n",
      "21078541.0\n"
     ]
    }
   ],
   "source": [
    "comedy_mean_profit = comedy_profit.mean()\n",
    "comedy_median_profit = comedy_profit.median()\n",
    "print(comedy_mean_profit)\n",
    "print(comedy_median_profit)"
   ]
  },
  {
   "cell_type": "code",
   "execution_count": 63,
   "metadata": {},
   "outputs": [
    {
     "name": "stdout",
     "output_type": "stream",
     "text": [
      "201471744.25581396\n",
      "73336398.0\n"
     ]
    }
   ],
   "source": [
    "adventure_mean_profit = adventure_profit.mean()\n",
    "adventure_median_profit = adventure_profit.median()\n",
    "print(adventure_mean_profit)\n",
    "print(adventure_median_profit)"
   ]
  },
  {
   "cell_type": "code",
   "execution_count": 64,
   "metadata": {},
   "outputs": [
    {
     "name": "stdout",
     "output_type": "stream",
     "text": [
      "118845445.04270987\n",
      "33306268.0\n"
     ]
    }
   ],
   "source": [
    "action_mean_profit = action_profit.mean()\n",
    "action_median_profit = action_profit.median()\n",
    "print(action_mean_profit)\n",
    "print(action_median_profit)"
   ]
  },
  {
   "cell_type": "code",
   "execution_count": 65,
   "metadata": {},
   "outputs": [
    {
     "name": "stdout",
     "output_type": "stream",
     "text": [
      "37608022.178266175\n",
      "4852084.0\n"
     ]
    }
   ],
   "source": [
    "drama_mean_profit = drama_profit.mean()\n",
    "drama_median_profit = drama_profit.median()\n",
    "print(drama_mean_profit)\n",
    "print(drama_median_profit)"
   ]
  },
  {
   "cell_type": "code",
   "execution_count": 66,
   "metadata": {},
   "outputs": [
    {
     "name": "stdout",
     "output_type": "stream",
     "text": [
      "49026151.505494505\n",
      "12067488.0\n"
     ]
    }
   ],
   "source": [
    "horror_mean_profit = horror_profit.mean()\n",
    "horror_median_profit = horror_profit.median()\n",
    "print(horror_mean_profit)\n",
    "print(horror_median_profit)"
   ]
  },
  {
   "cell_type": "code",
   "execution_count": 67,
   "metadata": {},
   "outputs": [
    {
     "name": "stdout",
     "output_type": "stream",
     "text": [
      "172679590.96666667\n",
      "29571147.5\n"
     ]
    }
   ],
   "source": [
    "scifi_mean_profit = scifi_profit.mean()\n",
    "scifi_median_profit = scifi_profit.median()\n",
    "print(scifi_mean_profit)\n",
    "print(scifi_median_profit)"
   ]
  },
  {
   "cell_type": "code",
   "execution_count": 68,
   "metadata": {},
   "outputs": [
    {
     "name": "stdout",
     "output_type": "stream",
     "text": [
      "193801914.36363637\n",
      "37700000.0\n"
     ]
    }
   ],
   "source": [
    "musical_mean_profit = musical_profit.mean()\n",
    "musical_median_profit = musical_profit.median()\n",
    "print(musical_mean_profit)\n",
    "print(musical_median_profit)"
   ]
  },
  {
   "cell_type": "code",
   "execution_count": 69,
   "metadata": {},
   "outputs": [
    {
     "data": {
      "image/png": "[encoded data removed]",
      "text/plain": [
       "<Figure size 720x432 with 1 Axes>"
      ]
     },
     "metadata": {
      "needs_background": "light"
     },
     "output_type": "display_data"
    }
   ],
   "source": [
    "# Visual for mean profit v genre \n",
    "genres = ['Adventure', 'Musical', 'Sci-Fi', 'Action', 'Comedy', 'Horror', 'Drama']\n",
    "means = [adventure_mean_profit, musical_mean_profit, scifi_mean_profit, action_mean_profit, \n",
    "        comedy_mean_profit, horror_mean_profit, drama_mean_profit]\n",
    "\n",
    "# Plotting\n",
    "plt.figure(figsize=(10, 6))\n",
    "plt.bar(genres, means, color='skyblue')\n",
    "\n",
    "# Adding labels and title\n",
    "plt.xlabel('Genre')\n",
    "plt.ylabel('Mean Profit ($)')\n",
    "plt.title('Mean Profit by Genre')\n",
    "plt.ticklabel_format(style = 'plain', axis='y')\n",
    "\n",
    "# Show plot\n",
    "plt.show()"
   ]
  },
  {
   "cell_type": "code",
   "execution_count": 70,
   "metadata": {},
   "outputs": [
    {
     "data": {
      "image/png": "[encoded data removed]",
      "text/plain": [
       "<Figure size 720x432 with 1 Axes>"
      ]
     },
     "metadata": {
      "needs_background": "light"
     },
     "output_type": "display_data"
    }
   ],
   "source": [
    "# Visual for median profit v genre \n",
    "genres = ['Adventure', 'Musical', 'Action', 'Sci-Fi', 'Comedy', 'Horror', 'Drama']\n",
    "medians = [adventure_median_profit, musical_median_profit, action_median_profit, scifi_median_profit,\n",
    "          comedy_median_profit, horror_median_profit, drama_median_profit]\n",
    "\n",
    "# Plotting\n",
    "plt.figure(figsize=(10, 6))\n",
    "plt.bar(genres, medians, color='skyblue')\n",
    "\n",
    "# Adding labels and title\n",
    "plt.xlabel('Genre')\n",
    "plt.ylabel('Median Profit ($)')\n",
    "plt.title('Median Profit by Genre')\n",
    "plt.ticklabel_format(style = 'plain', axis='y')\n",
    "\n",
    "# Show plot\n",
    "plt.show()"
   ]
  },
  {
   "cell_type": "markdown",
   "metadata": {},
   "source": [
    "### *****Need to include the Business Recommendations sections and Takeaways, and Limitations"
   ]
  },
  {
   "cell_type": "markdown",
   "metadata": {},
   "source": [
    "<hr style=\"border:1px solid gray\">"
   ]
  },
  {
   "cell_type": "markdown",
   "metadata": {},
   "source": [
    "## Analysis Part 3 - Exploring Relationship Between Production Budget and Profits"
   ]
  },
  {
   "cell_type": "markdown",
   "metadata": {},
   "source": [
    "This section evaluates the relationship between production budget and profit using a linear regression model."
   ]
  },
  {
   "cell_type": "code",
   "execution_count": 72,
   "metadata": {},
   "outputs": [],
   "source": [
    "#Defining X variable as Production Budget\n",
    "#Defining Y Variable as Profit\n",
    "\n",
    "x_production_budget = movie_budget_df['production_budget']\n",
    "y_profit = movie_budget_df['profit']"
   ]
  },
  {
   "cell_type": "code",
   "execution_count": 73,
   "metadata": {},
   "outputs": [
    {
     "name": "stdout",
     "output_type": "stream",
     "text": [
      "Our regression line is: y = 2.12694x + -7285667.05459\n"
     ]
    }
   ],
   "source": [
    "#Manually Build Out Linear Regression\n",
    "rho = np.corrcoef(x_production_budget, y_profit)[0][1]\n",
    "s_y = y_profit.std()\n",
    "s_x = x_production_budget.std()\n",
    "\n",
    "m = rho * s_y / s_x\n",
    "\n",
    "mean_y = y_profit.mean()\n",
    "mean_x = x_production_budget.mean()\n",
    "c = mean_y - m * mean_x\n",
    "\n",
    "print(f\"Our regression line is: y = {round(m, 5)}x + {round(c, 5)}\")"
   ]
  },
  {
   "cell_type": "code",
   "execution_count": 74,
   "metadata": {},
   "outputs": [],
   "source": [
    "#The manual construction above provides the equation for the line of best fit.\n",
    "#To look at other metrics, we utilize the StatsModel\n",
    "\n",
    "x_production_budget_plus_c = sm.add_constant(x_production_budget)"
   ]
  },
  {
   "cell_type": "code",
   "execution_count": 75,
   "metadata": {},
   "outputs": [],
   "source": [
    "model = sm.OLS(y_profit, x_production_budget_plus_c).fit()"
   ]
  },
  {
   "cell_type": "code",
   "execution_count": 76,
   "metadata": {},
   "outputs": [
    {
     "data": {
      "text/html": [
       "<table class=\"simpletable\">\n",
       "<caption>OLS Regression Results</caption>\n",
       "<tr>\n",
       "  <th>Dep. Variable:</th>         <td>profit</td>      <th>  R-squared:         </th>  <td>   0.371</td>  \n",
       "</tr>\n",
       "<tr>\n",
       "  <th>Model:</th>                   <td>OLS</td>       <th>  Adj. R-squared:    </th>  <td>   0.370</td>  \n",
       "</tr>\n",
       "<tr>\n",
       "  <th>Method:</th>             <td>Least Squares</td>  <th>  F-statistic:       </th>  <td>   3403.</td>  \n",
       "</tr>\n",
       "<tr>\n",
       "  <th>Date:</th>             <td>Tue, 26 Mar 2024</td> <th>  Prob (F-statistic):</th>   <td>  0.00</td>   \n",
       "</tr>\n",
       "<tr>\n",
       "  <th>Time:</th>                 <td>14:43:04</td>     <th>  Log-Likelihood:    </th> <td>-1.1557e+05</td>\n",
       "</tr>\n",
       "<tr>\n",
       "  <th>No. Observations:</th>      <td>  5782</td>      <th>  AIC:               </th>  <td>2.311e+05</td> \n",
       "</tr>\n",
       "<tr>\n",
       "  <th>Df Residuals:</th>          <td>  5780</td>      <th>  BIC:               </th>  <td>2.311e+05</td> \n",
       "</tr>\n",
       "<tr>\n",
       "  <th>Df Model:</th>              <td>     1</td>      <th>                     </th>      <td> </td>     \n",
       "</tr>\n",
       "<tr>\n",
       "  <th>Covariance Type:</th>      <td>nonrobust</td>    <th>                     </th>      <td> </td>     \n",
       "</tr>\n",
       "</table>\n",
       "<table class=\"simpletable\">\n",
       "<tr>\n",
       "          <td></td>             <th>coef</th>     <th>std err</th>      <th>t</th>      <th>P>|t|</th>  <th>[0.025</th>    <th>0.975]</th>  \n",
       "</tr>\n",
       "<tr>\n",
       "  <th>const</th>             <td>-7.286e+06</td> <td> 1.91e+06</td> <td>   -3.813</td> <td> 0.000</td> <td> -1.1e+07</td> <td>-3.54e+06</td>\n",
       "</tr>\n",
       "<tr>\n",
       "  <th>production_budget</th> <td>    2.1269</td> <td>    0.036</td> <td>   58.336</td> <td> 0.000</td> <td>    2.055</td> <td>    2.198</td>\n",
       "</tr>\n",
       "</table>\n",
       "<table class=\"simpletable\">\n",
       "<tr>\n",
       "  <th>Omnibus:</th>       <td>4232.022</td> <th>  Durbin-Watson:     </th>  <td>   1.005</td> \n",
       "</tr>\n",
       "<tr>\n",
       "  <th>Prob(Omnibus):</th>  <td> 0.000</td>  <th>  Jarque-Bera (JB):  </th> <td>172398.262</td>\n",
       "</tr>\n",
       "<tr>\n",
       "  <th>Skew:</th>           <td> 3.053</td>  <th>  Prob(JB):          </th>  <td>    0.00</td> \n",
       "</tr>\n",
       "<tr>\n",
       "  <th>Kurtosis:</th>       <td>29.044</td>  <th>  Cond. No.          </th>  <td>6.57e+07</td> \n",
       "</tr>\n",
       "</table><br/><br/>Notes:<br/>[1] Standard Errors assume that the covariance matrix of the errors is correctly specified.<br/>[2] The condition number is large, 6.57e+07. This might indicate that there are<br/>strong multicollinearity or other numerical problems."
      ],
      "text/plain": [
       "<class 'statsmodels.iolib.summary.Summary'>\n",
       "\"\"\"\n",
       "                            OLS Regression Results                            \n",
       "==============================================================================\n",
       "Dep. Variable:                 profit   R-squared:                       0.371\n",
       "Model:                            OLS   Adj. R-squared:                  0.370\n",
       "Method:                 Least Squares   F-statistic:                     3403.\n",
       "Date:                Tue, 26 Mar 2024   Prob (F-statistic):               0.00\n",
       "Time:                        14:43:04   Log-Likelihood:            -1.1557e+05\n",
       "No. Observations:                5782   AIC:                         2.311e+05\n",
       "Df Residuals:                    5780   BIC:                         2.311e+05\n",
       "Df Model:                           1                                         \n",
       "Covariance Type:            nonrobust                                         \n",
       "=====================================================================================\n",
       "                        coef    std err          t      P>|t|      [0.025      0.975]\n",
       "-------------------------------------------------------------------------------------\n",
       "const             -7.286e+06   1.91e+06     -3.813      0.000    -1.1e+07   -3.54e+06\n",
       "production_budget     2.1269      0.036     58.336      0.000       2.055       2.198\n",
       "==============================================================================\n",
       "Omnibus:                     4232.022   Durbin-Watson:                   1.005\n",
       "Prob(Omnibus):                  0.000   Jarque-Bera (JB):           172398.262\n",
       "Skew:                           3.053   Prob(JB):                         0.00\n",
       "Kurtosis:                      29.044   Cond. No.                     6.57e+07\n",
       "==============================================================================\n",
       "\n",
       "Notes:\n",
       "[1] Standard Errors assume that the covariance matrix of the errors is correctly specified.\n",
       "[2] The condition number is large, 6.57e+07. This might indicate that there are\n",
       "strong multicollinearity or other numerical problems.\n",
       "\"\"\""
      ]
     },
     "execution_count": 76,
     "metadata": {},
     "output_type": "execute_result"
    }
   ],
   "source": [
    "model.summary()"
   ]
  },
  {
   "cell_type": "markdown",
   "metadata": {},
   "source": [
    "#### Observations\n",
    "- Our model is statistically significant, with a p-value well below the standard alpha of 0.05.\n",
    "- Our model explains about 37.1% of the variance in profit, which is our dependent variable.\n",
    "- For a production budget of 0, our model would predict a profit of \\-$7,286,000. An increase of 1 in production budget is associated with an increase of \\\\$2.13 in profit.\n",
    "    - **Check:** The StatsModel values are the same values that were calculated manually above."
   ]
  },
  {
   "cell_type": "code",
   "execution_count": 77,
   "metadata": {},
   "outputs": [],
   "source": [
    "#Creating custom number formatters for charting purposes\n",
    "def MM_formatter(x, pos):\n",
    "    return f'${x/1e6:.1f} MM'\n",
    "\n",
    "def Bn_formatter(x,pos):\n",
    "    return f'${x/1e9:.1f} Bn'"
   ]
  },
  {
   "cell_type": "code",
   "execution_count": 78,
   "metadata": {
    "scrolled": true
   },
   "outputs": [
    {
     "data": {
      "image/png": "[encoded data removed]",
      "text/plain": [
       "<Figure size 720x432 with 1 Axes>"
      ]
     },
     "metadata": {
      "needs_background": "light"
     },
     "output_type": "display_data"
    }
   ],
   "source": [
    "#Look at Scatter Plot\n",
    "fig, ax = plt.subplots(figsize=(10,6))\n",
    "ax.set_facecolor('whitesmoke')\n",
    "\n",
    "ax.scatter(x_production_budget, y_profit)\n",
    "ax.plot(x_production_budget, (m*x_production_budget+c), linewidth=4, color='g', linestyle=':')\n",
    "\n",
    "#This line here is y=0. All the data points below this are unprofitable\n",
    "ax.axhline(linewidth=1, color='lightcoral') \n",
    "\n",
    "#Create a ScalarFormatter object\n",
    "formatter1 = ticker.FuncFormatter(MM_formatter)\n",
    "formatter2 = ticker.FuncFormatter(Bn_formatter)\n",
    "\n",
    "#Applying the formatter to both x and y axes\n",
    "ax.yaxis.set_major_formatter(formatter2)\n",
    "ax.xaxis.set_major_formatter(formatter1)\n",
    "\n",
    "ax.set_xlabel('Production Budget')\n",
    "ax.set_ylabel('Profit')\n",
    "ax.set_title('The Positive Relationship Between Production Budget Spending and Profit Does Exist... But Its Weak')\n",
    "\n",
    "plt.xlim(0,4.5e8)\n",
    "plt.ylim(-.5e9,2.5e9)\n",
    "plt.tight_layout()"
   ]
  },
  {
   "cell_type": "markdown",
   "metadata": {},
   "source": [
    "### Conclusion\n",
    "Based on the R^2 value, 37.1% of the variability in profit can be explained by the production budget. While the model explains a sizable portion of the variability, there is still a substantial amount of unexplained variation."
   ]
  },
  {
   "cell_type": "markdown",
   "metadata": {},
   "source": [
    "### Limitations to the Analysis\n",
    "- We have assumed a linear relationship. However, given the current R^2, the model may not have captured the complexity of the data accurately. We could improve on our analysis by utilizing a multiple linear regression model.\n",
    "- While we implemented a thorough data preparation process, there may be other data points that should have been removed to improve the effectiveness of our analysis."
   ]
  },
  {
   "cell_type": "markdown",
   "metadata": {},
   "source": [
    "##  Analysis Part 3a - Additional Analysis on a Specific Genre\n",
    "To investigate whether the conclusion drawn from the third analysis may differ for a given genre, the team has conducted a linear regression model on the comedy movies."
   ]
  },
  {
   "cell_type": "markdown",
   "metadata": {},
   "source": [
    "To start, we create a new dataframe column to divide comedy from non-comedy movies"
   ]
  },
  {
   "cell_type": "code",
   "execution_count": 79,
   "metadata": {},
   "outputs": [],
   "source": [
    "df_merged_mb['comedy_or_other'] = df_merged_mb['genres'].apply(lambda x: 'Comedy' if x is not None and 'Comedy' in x else 'Other')"
   ]
  },
  {
   "cell_type": "code",
   "execution_count": 80,
   "metadata": {},
   "outputs": [
    {
     "data": {
      "text/plain": [
       "Other     2594\n",
       "Comedy     771\n",
       "Name: comedy_or_other, dtype: int64"
      ]
     },
     "execution_count": 80,
     "metadata": {},
     "output_type": "execute_result"
    }
   ],
   "source": [
    "#Checking if the above code went through\n",
    "\n",
    "df_merged_mb['comedy_or_other'].value_counts()"
   ]
  },
  {
   "cell_type": "code",
   "execution_count": 83,
   "metadata": {},
   "outputs": [],
   "source": [
    "#Created two dataframes: One for comedy and one for other\n",
    "\n",
    "df_comedy = df_merged_mb[df_merged_mb['comedy_or_other'] == 'Comedy']\n",
    "df_other = df_merged_mb[df_merged_mb['comedy_or_other'] == 'Other']"
   ]
  },
  {
   "cell_type": "code",
   "execution_count": 85,
   "metadata": {},
   "outputs": [
    {
     "data": {
      "text/html": [
       "<div>\n",
       "<style scoped>\n",
       "    .dataframe tbody tr th:only-of-type {\n",
       "        vertical-align: middle;\n",
       "    }\n",
       "\n",
       "    .dataframe tbody tr th {\n",
       "        vertical-align: top;\n",
       "    }\n",
       "\n",
       "    .dataframe thead th {\n",
       "        text-align: right;\n",
       "    }\n",
       "</style>\n",
       "<table border=\"1\" class=\"dataframe\">\n",
       "  <thead>\n",
       "    <tr style=\"text-align: right;\">\n",
       "      <th></th>\n",
       "      <th>id</th>\n",
       "      <th>release_date</th>\n",
       "      <th>movie</th>\n",
       "      <th>production_budget</th>\n",
       "      <th>domestic_gross</th>\n",
       "      <th>worldwide_gross</th>\n",
       "      <th>profit</th>\n",
       "      <th>movie_id</th>\n",
       "      <th>primary_title</th>\n",
       "      <th>original_title</th>\n",
       "      <th>start_year</th>\n",
       "      <th>runtime_minutes</th>\n",
       "      <th>genres</th>\n",
       "      <th>comedy_or_other</th>\n",
       "    </tr>\n",
       "  </thead>\n",
       "  <tbody>\n",
       "    <tr>\n",
       "      <th>11</th>\n",
       "      <td>15</td>\n",
       "      <td>Nov 24, 2010</td>\n",
       "      <td>Tangled</td>\n",
       "      <td>260000000</td>\n",
       "      <td>200821936</td>\n",
       "      <td>586477240</td>\n",
       "      <td>326477240</td>\n",
       "      <td>tt0398286</td>\n",
       "      <td>Tangled</td>\n",
       "      <td>Tangled</td>\n",
       "      <td>2010</td>\n",
       "      <td>100.0</td>\n",
       "      <td>Adventure,Animation,Comedy</td>\n",
       "      <td>Comedy</td>\n",
       "    </tr>\n",
       "    <tr>\n",
       "      <th>26</th>\n",
       "      <td>35</td>\n",
       "      <td>May 25, 2012</td>\n",
       "      <td>Men in Black 3</td>\n",
       "      <td>215000000</td>\n",
       "      <td>179020854</td>\n",
       "      <td>654213485</td>\n",
       "      <td>439213485</td>\n",
       "      <td>tt1409024</td>\n",
       "      <td>Men in Black 3</td>\n",
       "      <td>Men in Black 3</td>\n",
       "      <td>2012</td>\n",
       "      <td>106.0</td>\n",
       "      <td>Action,Adventure,Comedy</td>\n",
       "      <td>Comedy</td>\n",
       "    </tr>\n",
       "    <tr>\n",
       "      <th>46</th>\n",
       "      <td>46</td>\n",
       "      <td>Jun 17, 2016</td>\n",
       "      <td>Finding Dory</td>\n",
       "      <td>200000000</td>\n",
       "      <td>486295561</td>\n",
       "      <td>1021215193</td>\n",
       "      <td>821215193</td>\n",
       "      <td>tt2277860</td>\n",
       "      <td>Finding Dory</td>\n",
       "      <td>Finding Dory</td>\n",
       "      <td>2016</td>\n",
       "      <td>97.0</td>\n",
       "      <td>Adventure,Animation,Comedy</td>\n",
       "      <td>Comedy</td>\n",
       "    </tr>\n",
       "    <tr>\n",
       "      <th>47</th>\n",
       "      <td>47</td>\n",
       "      <td>Jun 18, 2010</td>\n",
       "      <td>Toy Story 3</td>\n",
       "      <td>200000000</td>\n",
       "      <td>415004880</td>\n",
       "      <td>1068879522</td>\n",
       "      <td>868879522</td>\n",
       "      <td>tt0435761</td>\n",
       "      <td>Toy Story 3</td>\n",
       "      <td>Toy Story 3</td>\n",
       "      <td>2010</td>\n",
       "      <td>103.0</td>\n",
       "      <td>Adventure,Animation,Comedy</td>\n",
       "      <td>Comedy</td>\n",
       "    </tr>\n",
       "    <tr>\n",
       "      <th>56</th>\n",
       "      <td>53</td>\n",
       "      <td>Jun 21, 2013</td>\n",
       "      <td>Monsters University</td>\n",
       "      <td>200000000</td>\n",
       "      <td>268488329</td>\n",
       "      <td>743588329</td>\n",
       "      <td>543588329</td>\n",
       "      <td>tt1453405</td>\n",
       "      <td>Monsters University</td>\n",
       "      <td>Monsters University</td>\n",
       "      <td>2013</td>\n",
       "      <td>104.0</td>\n",
       "      <td>Adventure,Animation,Comedy</td>\n",
       "      <td>Comedy</td>\n",
       "    </tr>\n",
       "  </tbody>\n",
       "</table>\n",
       "</div>"
      ],
      "text/plain": [
       "    id  release_date                movie  production_budget  domestic_gross  \\\n",
       "11  15  Nov 24, 2010              Tangled          260000000       200821936   \n",
       "26  35  May 25, 2012       Men in Black 3          215000000       179020854   \n",
       "46  46  Jun 17, 2016         Finding Dory          200000000       486295561   \n",
       "47  47  Jun 18, 2010          Toy Story 3          200000000       415004880   \n",
       "56  53  Jun 21, 2013  Monsters University          200000000       268488329   \n",
       "\n",
       "    worldwide_gross     profit   movie_id        primary_title  \\\n",
       "11        586477240  326477240  tt0398286              Tangled   \n",
       "26        654213485  439213485  tt1409024       Men in Black 3   \n",
       "46       1021215193  821215193  tt2277860         Finding Dory   \n",
       "47       1068879522  868879522  tt0435761          Toy Story 3   \n",
       "56        743588329  543588329  tt1453405  Monsters University   \n",
       "\n",
       "         original_title  start_year  runtime_minutes  \\\n",
       "11              Tangled        2010            100.0   \n",
       "26       Men in Black 3        2012            106.0   \n",
       "46         Finding Dory        2016             97.0   \n",
       "47          Toy Story 3        2010            103.0   \n",
       "56  Monsters University        2013            104.0   \n",
       "\n",
       "                        genres comedy_or_other  \n",
       "11  Adventure,Animation,Comedy          Comedy  \n",
       "26     Action,Adventure,Comedy          Comedy  \n",
       "46  Adventure,Animation,Comedy          Comedy  \n",
       "47  Adventure,Animation,Comedy          Comedy  \n",
       "56  Adventure,Animation,Comedy          Comedy  "
      ]
     },
     "execution_count": 85,
     "metadata": {},
     "output_type": "execute_result"
    }
   ],
   "source": [
    "#We look at the df_comedy dataframe as a check\n",
    "\n",
    "df_comedy.head()"
   ]
  },
  {
   "cell_type": "code",
   "execution_count": 86,
   "metadata": {},
   "outputs": [],
   "source": [
    "#Defining X variable as Production Budget\n",
    "#Defining Y Variable as Profit\n",
    "\n",
    "x_comedy_prod_budget = np.array(df_comedy['production_budget'])\n",
    "y_comedy_profit = np.array(df_comedy['profit'])"
   ]
  },
  {
   "cell_type": "code",
   "execution_count": 87,
   "metadata": {},
   "outputs": [
    {
     "name": "stdout",
     "output_type": "stream",
     "text": [
      "Our regression line is: y = 2.25141x + -5510338.31447\n"
     ]
    }
   ],
   "source": [
    "#Manually Build Out Linear Regression\n",
    "rho_comedy = np.corrcoef(x_comedy_prod_budget, y_comedy_profit)[0][1]\n",
    "s_y_comedy = y_comedy_profit.std()\n",
    "s_x_comedy = x_comedy_prod_budget.std()\n",
    "\n",
    "m_comedy = rho_comedy * s_y_comedy / s_x_comedy\n",
    "\n",
    "mean_y_comedy = y_comedy_profit.mean()\n",
    "mean_x_comedy = x_comedy_prod_budget.mean()\n",
    "c_comedy = mean_y_comedy - m_comedy * mean_x_comedy\n",
    "\n",
    "print(f\"Our regression line is: y = {round(m_comedy, 5)}x + {round(c_comedy, 5)}\")"
   ]
  },
  {
   "cell_type": "code",
   "execution_count": 88,
   "metadata": {},
   "outputs": [],
   "source": [
    "x_comedy_prod_budget_plus_c = sm.add_constant(x_comedy_prod_budget)"
   ]
  },
  {
   "cell_type": "code",
   "execution_count": 89,
   "metadata": {},
   "outputs": [],
   "source": [
    "model_comedy = sm.OLS(y_comedy_profit, x_comedy_prod_budget_plus_c).fit()"
   ]
  },
  {
   "cell_type": "code",
   "execution_count": 90,
   "metadata": {},
   "outputs": [
    {
     "data": {
      "text/html": [
       "<table class=\"simpletable\">\n",
       "<caption>OLS Regression Results</caption>\n",
       "<tr>\n",
       "  <th>Dep. Variable:</th>            <td>y</td>        <th>  R-squared:         </th> <td>   0.355</td> \n",
       "</tr>\n",
       "<tr>\n",
       "  <th>Model:</th>                   <td>OLS</td>       <th>  Adj. R-squared:    </th> <td>   0.354</td> \n",
       "</tr>\n",
       "<tr>\n",
       "  <th>Method:</th>             <td>Least Squares</td>  <th>  F-statistic:       </th> <td>   423.6</td> \n",
       "</tr>\n",
       "<tr>\n",
       "  <th>Date:</th>             <td>Tue, 26 Mar 2024</td> <th>  Prob (F-statistic):</th> <td>2.53e-75</td> \n",
       "</tr>\n",
       "<tr>\n",
       "  <th>Time:</th>                 <td>14:49:07</td>     <th>  Log-Likelihood:    </th> <td> -15443.</td> \n",
       "</tr>\n",
       "<tr>\n",
       "  <th>No. Observations:</th>      <td>   771</td>      <th>  AIC:               </th> <td>3.089e+04</td>\n",
       "</tr>\n",
       "<tr>\n",
       "  <th>Df Residuals:</th>          <td>   769</td>      <th>  BIC:               </th> <td>3.090e+04</td>\n",
       "</tr>\n",
       "<tr>\n",
       "  <th>Df Model:</th>              <td>     1</td>      <th>                     </th>     <td> </td>    \n",
       "</tr>\n",
       "<tr>\n",
       "  <th>Covariance Type:</th>      <td>nonrobust</td>    <th>                     </th>     <td> </td>    \n",
       "</tr>\n",
       "</table>\n",
       "<table class=\"simpletable\">\n",
       "<tr>\n",
       "    <td></td>       <th>coef</th>     <th>std err</th>      <th>t</th>      <th>P>|t|</th>  <th>[0.025</th>    <th>0.975]</th>  \n",
       "</tr>\n",
       "<tr>\n",
       "  <th>const</th> <td> -5.51e+06</td> <td> 5.87e+06</td> <td>   -0.939</td> <td> 0.348</td> <td> -1.7e+07</td> <td>    6e+06</td>\n",
       "</tr>\n",
       "<tr>\n",
       "  <th>x1</th>    <td>    2.2514</td> <td>    0.109</td> <td>   20.583</td> <td> 0.000</td> <td>    2.037</td> <td>    2.466</td>\n",
       "</tr>\n",
       "</table>\n",
       "<table class=\"simpletable\">\n",
       "<tr>\n",
       "  <th>Omnibus:</th>       <td>504.863</td> <th>  Durbin-Watson:     </th> <td>   1.337</td>\n",
       "</tr>\n",
       "<tr>\n",
       "  <th>Prob(Omnibus):</th> <td> 0.000</td>  <th>  Jarque-Bera (JB):  </th> <td>8351.336</td>\n",
       "</tr>\n",
       "<tr>\n",
       "  <th>Skew:</th>          <td> 2.695</td>  <th>  Prob(JB):          </th> <td>    0.00</td>\n",
       "</tr>\n",
       "<tr>\n",
       "  <th>Kurtosis:</th>      <td>18.195</td>  <th>  Cond. No.          </th> <td>7.21e+07</td>\n",
       "</tr>\n",
       "</table><br/><br/>Notes:<br/>[1] Standard Errors assume that the covariance matrix of the errors is correctly specified.<br/>[2] The condition number is large, 7.21e+07. This might indicate that there are<br/>strong multicollinearity or other numerical problems."
      ],
      "text/plain": [
       "<class 'statsmodels.iolib.summary.Summary'>\n",
       "\"\"\"\n",
       "                            OLS Regression Results                            \n",
       "==============================================================================\n",
       "Dep. Variable:                      y   R-squared:                       0.355\n",
       "Model:                            OLS   Adj. R-squared:                  0.354\n",
       "Method:                 Least Squares   F-statistic:                     423.6\n",
       "Date:                Tue, 26 Mar 2024   Prob (F-statistic):           2.53e-75\n",
       "Time:                        14:49:07   Log-Likelihood:                -15443.\n",
       "No. Observations:                 771   AIC:                         3.089e+04\n",
       "Df Residuals:                     769   BIC:                         3.090e+04\n",
       "Df Model:                           1                                         \n",
       "Covariance Type:            nonrobust                                         \n",
       "==============================================================================\n",
       "                 coef    std err          t      P>|t|      [0.025      0.975]\n",
       "------------------------------------------------------------------------------\n",
       "const       -5.51e+06   5.87e+06     -0.939      0.348    -1.7e+07       6e+06\n",
       "x1             2.2514      0.109     20.583      0.000       2.037       2.466\n",
       "==============================================================================\n",
       "Omnibus:                      504.863   Durbin-Watson:                   1.337\n",
       "Prob(Omnibus):                  0.000   Jarque-Bera (JB):             8351.336\n",
       "Skew:                           2.695   Prob(JB):                         0.00\n",
       "Kurtosis:                      18.195   Cond. No.                     7.21e+07\n",
       "==============================================================================\n",
       "\n",
       "Notes:\n",
       "[1] Standard Errors assume that the covariance matrix of the errors is correctly specified.\n",
       "[2] The condition number is large, 7.21e+07. This might indicate that there are\n",
       "strong multicollinearity or other numerical problems.\n",
       "\"\"\""
      ]
     },
     "execution_count": 90,
     "metadata": {},
     "output_type": "execute_result"
    }
   ],
   "source": [
    "model_comedy.summary()"
   ]
  },
  {
   "cell_type": "markdown",
   "metadata": {},
   "source": [
    "#### Observations\n",
    "- Our model is statistically significant, with a p-value well below the standard alpha of 0.05.\n",
    "- Our model explains about 35.5% of the variance in profit, which is our dependent variable.\n",
    "- For a production budget of 0, our model would predict a profit of \\-$5,510,000. An increase of 1 in production budget is associated with an increase of \\\\$2.25 in profit.\n",
    "    - **Check:** The StatsModel values are the same values that were calculated manually above."
   ]
  },
  {
   "cell_type": "code",
   "execution_count": 91,
   "metadata": {},
   "outputs": [
    {
     "data": {
      "image/png": "[encoded data removed]",
      "text/plain": [
       "<Figure size 720x432 with 1 Axes>"
      ]
     },
     "metadata": {
      "needs_background": "light"
     },
     "output_type": "display_data"
    }
   ],
   "source": [
    "#Look at Scatter Plot and line of best fit for comedy movies\n",
    "fig, ax = plt.subplots(figsize=(10,6))\n",
    "ax.set_facecolor('whitesmoke')\n",
    "\n",
    "ax.scatter(x_comedy_prod_budget, y_comedy_profit)\n",
    "ax.plot(x_comedy_prod_budget, (m_comedy*x_comedy_prod_budget+c_comedy), linewidth=4, color='g', linestyle=':')\n",
    "\n",
    "#This line hear is y=0. All the data points below this are unprofitable\n",
    "ax.axhline(linewidth=1, color='lightcoral') \n",
    "\n",
    "#Create a ScalarFormatter object\n",
    "formatter1 = ticker.FuncFormatter(MM_formatter)\n",
    "formatter2 = ticker.FuncFormatter(Bn_formatter)\n",
    "\n",
    "#Applying the formatter to both x and y axes\n",
    "ax.yaxis.set_major_formatter(formatter2)\n",
    "ax.xaxis.set_major_formatter(formatter1)\n",
    "\n",
    "ax.set_xlabel('Production Budget')\n",
    "ax.set_ylabel('Profit')\n",
    "ax.set_title('Comedy seems to have similar positive relationship as overall data set')\n",
    "\n",
    "plt.xlim(0,2.75e8)\n",
    "plt.ylim(-.25e9,1.25e9)\n",
    "plt.tight_layout()"
   ]
  },
  {
   "cell_type": "markdown",
   "metadata": {},
   "source": [
    "### Conclusion\n",
    "Based on the R^2 value, 35.5% of the variability in profit can be explained by the production budget for comedy movies. While the model explains a sizable portion of the variability, there is still a substantial amount of unexplained variation."
   ]
  },
  {
   "cell_type": "markdown",
   "metadata": {},
   "source": [
    "### Third Recommendation\n",
    "\n",
    "Based on the analyses, **S-Trio Entertainment** should be cognizant of the fact that production budget has a sizable impact on the profitability of the movie but it is not the sole determining factor. When planning for production budgets, our team recommends spending strategically to avoid unnecessary losses.\n",
    "\n",
    "Based on our linear recommendation model across all movie categories:\n",
    "- For every dollar spent on the production budget, \\\\$2.13 in profits is typically generated\n",
    "- At least \\\\$3.4 million in production budget is need to breakeven\n",
    "- To clear \\\\$1 million in profits, we recommend a production budget of \\\\$3.9 million."
   ]
  },
  {
   "cell_type": "markdown",
   "metadata": {},
   "source": [
    "<hr style=\"border:2px solid gray\">"
   ]
  },
  {
   "cell_type": "markdown",
   "metadata": {},
   "source": [
    "# Conclusion"
   ]
  },
  {
   "cell_type": "markdown",
   "metadata": {},
   "source": []
  }
 ],
 "metadata": {
  "celltoolbar": "Create Assignment",
  "kernelspec": {
   "display_name": "Python 3",
   "language": "python",
   "name": "python3"
  },
  "language_info": {
   "codemirror_mode": {
    "name": "ipython",
    "version": 3
   },
   "file_extension": ".py",
   "mimetype": "text/x-python",
   "name": "python",
   "nbconvert_exporter": "python",
   "pygments_lexer": "ipython3",
   "version": "3.8.5"
  }
 },
 "nbformat": 4,
 "nbformat_minor": 4
}
