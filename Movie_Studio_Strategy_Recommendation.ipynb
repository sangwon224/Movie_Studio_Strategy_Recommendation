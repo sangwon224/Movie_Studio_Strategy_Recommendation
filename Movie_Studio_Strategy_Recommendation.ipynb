{
 "cells": [
  {
   "cell_type": "markdown",
   "metadata": {},
   "source": [
    "## Analysis #1 - Effect of Film Rating on Box Office Revenue"
   ]
  },
  {
   "cell_type": "code",
   "execution_count": 1,
   "metadata": {},
   "outputs": [],
   "source": [
    "#Import relevant packages\n",
    "import numpy as np\n",
    "import pandas as pd\n",
    "import matplotlib.pyplot as plt\n",
    "import sqlite3\n",
    "from scipy import stats\n",
    "import seaborn as sns\n",
    "\n",
    "%matplotlib inline \n",
    "\n",
    "pd.set_option('display.max_columns', None)"
   ]
  },
  {
   "cell_type": "code",
   "execution_count": 2,
   "metadata": {},
   "outputs": [],
   "source": [
    "#Initiating SQL connection\n",
    "conn = sqlite3.connect('data/im.db')\n",
    "cursor = conn.cursor()"
   ]
  },
  {
   "cell_type": "code",
   "execution_count": 3,
   "metadata": {
    "scrolled": true
   },
   "outputs": [
    {
     "data": {
      "text/html": [
       "<div>\n",
       "<style scoped>\n",
       "    .dataframe tbody tr th:only-of-type {\n",
       "        vertical-align: middle;\n",
       "    }\n",
       "\n",
       "    .dataframe tbody tr th {\n",
       "        vertical-align: top;\n",
       "    }\n",
       "\n",
       "    .dataframe thead th {\n",
       "        text-align: right;\n",
       "    }\n",
       "</style>\n",
       "<table border=\"1\" class=\"dataframe\">\n",
       "  <thead>\n",
       "    <tr style=\"text-align: right;\">\n",
       "      <th></th>\n",
       "      <th>id</th>\n",
       "      <th>synopsis</th>\n",
       "      <th>rating</th>\n",
       "      <th>genre</th>\n",
       "      <th>director</th>\n",
       "      <th>writer</th>\n",
       "      <th>theater_date</th>\n",
       "      <th>dvd_date</th>\n",
       "      <th>currency</th>\n",
       "      <th>box_office</th>\n",
       "      <th>runtime</th>\n",
       "      <th>studio</th>\n",
       "    </tr>\n",
       "  </thead>\n",
       "  <tbody>\n",
       "    <tr>\n",
       "      <th>0</th>\n",
       "      <td>1</td>\n",
       "      <td>This gritty, fast-paced, and innovative police...</td>\n",
       "      <td>R</td>\n",
       "      <td>Action and Adventure|Classics|Drama</td>\n",
       "      <td>William Friedkin</td>\n",
       "      <td>Ernest Tidyman</td>\n",
       "      <td>Oct 9, 1971</td>\n",
       "      <td>Sep 25, 2001</td>\n",
       "      <td>NaN</td>\n",
       "      <td>NaN</td>\n",
       "      <td>104 minutes</td>\n",
       "      <td>NaN</td>\n",
       "    </tr>\n",
       "    <tr>\n",
       "      <th>1</th>\n",
       "      <td>3</td>\n",
       "      <td>New York City, not-too-distant-future: Eric Pa...</td>\n",
       "      <td>R</td>\n",
       "      <td>Drama|Science Fiction and Fantasy</td>\n",
       "      <td>David Cronenberg</td>\n",
       "      <td>David Cronenberg|Don DeLillo</td>\n",
       "      <td>Aug 17, 2012</td>\n",
       "      <td>Jan 1, 2013</td>\n",
       "      <td>$</td>\n",
       "      <td>600,000</td>\n",
       "      <td>108 minutes</td>\n",
       "      <td>Entertainment One</td>\n",
       "    </tr>\n",
       "    <tr>\n",
       "      <th>2</th>\n",
       "      <td>5</td>\n",
       "      <td>Illeana Douglas delivers a superb performance ...</td>\n",
       "      <td>R</td>\n",
       "      <td>Drama|Musical and Performing Arts</td>\n",
       "      <td>Allison Anders</td>\n",
       "      <td>Allison Anders</td>\n",
       "      <td>Sep 13, 1996</td>\n",
       "      <td>Apr 18, 2000</td>\n",
       "      <td>NaN</td>\n",
       "      <td>NaN</td>\n",
       "      <td>116 minutes</td>\n",
       "      <td>NaN</td>\n",
       "    </tr>\n",
       "    <tr>\n",
       "      <th>3</th>\n",
       "      <td>6</td>\n",
       "      <td>Michael Douglas runs afoul of a treacherous su...</td>\n",
       "      <td>R</td>\n",
       "      <td>Drama|Mystery and Suspense</td>\n",
       "      <td>Barry Levinson</td>\n",
       "      <td>Paul Attanasio|Michael Crichton</td>\n",
       "      <td>Dec 9, 1994</td>\n",
       "      <td>Aug 27, 1997</td>\n",
       "      <td>NaN</td>\n",
       "      <td>NaN</td>\n",
       "      <td>128 minutes</td>\n",
       "      <td>NaN</td>\n",
       "    </tr>\n",
       "    <tr>\n",
       "      <th>4</th>\n",
       "      <td>7</td>\n",
       "      <td>NaN</td>\n",
       "      <td>NR</td>\n",
       "      <td>Drama|Romance</td>\n",
       "      <td>Rodney Bennett</td>\n",
       "      <td>Giles Cooper</td>\n",
       "      <td>NaN</td>\n",
       "      <td>NaN</td>\n",
       "      <td>NaN</td>\n",
       "      <td>NaN</td>\n",
       "      <td>200 minutes</td>\n",
       "      <td>NaN</td>\n",
       "    </tr>\n",
       "  </tbody>\n",
       "</table>\n",
       "</div>"
      ],
      "text/plain": [
       "   id                                           synopsis rating  \\\n",
       "0   1  This gritty, fast-paced, and innovative police...      R   \n",
       "1   3  New York City, not-too-distant-future: Eric Pa...      R   \n",
       "2   5  Illeana Douglas delivers a superb performance ...      R   \n",
       "3   6  Michael Douglas runs afoul of a treacherous su...      R   \n",
       "4   7                                                NaN     NR   \n",
       "\n",
       "                                 genre          director  \\\n",
       "0  Action and Adventure|Classics|Drama  William Friedkin   \n",
       "1    Drama|Science Fiction and Fantasy  David Cronenberg   \n",
       "2    Drama|Musical and Performing Arts    Allison Anders   \n",
       "3           Drama|Mystery and Suspense    Barry Levinson   \n",
       "4                        Drama|Romance    Rodney Bennett   \n",
       "\n",
       "                            writer  theater_date      dvd_date currency  \\\n",
       "0                   Ernest Tidyman   Oct 9, 1971  Sep 25, 2001      NaN   \n",
       "1     David Cronenberg|Don DeLillo  Aug 17, 2012   Jan 1, 2013        $   \n",
       "2                   Allison Anders  Sep 13, 1996  Apr 18, 2000      NaN   \n",
       "3  Paul Attanasio|Michael Crichton   Dec 9, 1994  Aug 27, 1997      NaN   \n",
       "4                     Giles Cooper           NaN           NaN      NaN   \n",
       "\n",
       "  box_office      runtime             studio  \n",
       "0        NaN  104 minutes                NaN  \n",
       "1    600,000  108 minutes  Entertainment One  \n",
       "2        NaN  116 minutes                NaN  \n",
       "3        NaN  128 minutes                NaN  \n",
       "4        NaN  200 minutes                NaN  "
      ]
     },
     "execution_count": 3,
     "metadata": {},
     "output_type": "execute_result"
    }
   ],
   "source": [
    "#reading the rt.movie.info data\n",
    "movie_info_df = pd.read_csv(\"data/rt.movie_info.tsv.gz\", sep=\"\\t\", encoding='windows-1252')\n",
    "movie_info_df.head()"
   ]
  },
  {
   "cell_type": "code",
   "execution_count": 4,
   "metadata": {},
   "outputs": [
    {
     "name": "stdout",
     "output_type": "stream",
     "text": [
      "<class 'pandas.core.frame.DataFrame'>\n",
      "RangeIndex: 1560 entries, 0 to 1559\n",
      "Data columns (total 12 columns):\n",
      " #   Column        Non-Null Count  Dtype \n",
      "---  ------        --------------  ----- \n",
      " 0   id            1560 non-null   int64 \n",
      " 1   synopsis      1498 non-null   object\n",
      " 2   rating        1557 non-null   object\n",
      " 3   genre         1552 non-null   object\n",
      " 4   director      1361 non-null   object\n",
      " 5   writer        1111 non-null   object\n",
      " 6   theater_date  1201 non-null   object\n",
      " 7   dvd_date      1201 non-null   object\n",
      " 8   currency      340 non-null    object\n",
      " 9   box_office    340 non-null    object\n",
      " 10  runtime       1530 non-null   object\n",
      " 11  studio        494 non-null    object\n",
      "dtypes: int64(1), object(11)\n",
      "memory usage: 146.4+ KB\n"
     ]
    }
   ],
   "source": [
    "# need to change box_office dtype from object to int64\n",
    "movie_info_df.info()"
   ]
  },
  {
   "cell_type": "code",
   "execution_count": 5,
   "metadata": {},
   "outputs": [],
   "source": [
    "#drop na values in box office and rating columns\n",
    "movie_info_df.dropna(subset=['box_office', 'rating'], inplace=True)"
   ]
  },
  {
   "cell_type": "code",
   "execution_count": 6,
   "metadata": {},
   "outputs": [],
   "source": [
    "#removing commas and making the value to int64\n",
    "movie_info_df['box_office_clean'] = movie_info_df['box_office'].str.replace(\",\", \"\").astype(np.int64)"
   ]
  },
  {
   "cell_type": "code",
   "execution_count": 7,
   "metadata": {},
   "outputs": [
    {
     "data": {
      "text/plain": [
       "R        142\n",
       "PG-13    117\n",
       "PG        52\n",
       "NR        19\n",
       "G          9\n",
       "NC17       1\n",
       "Name: rating, dtype: int64"
      ]
     },
     "execution_count": 7,
     "metadata": {},
     "output_type": "execute_result"
    }
   ],
   "source": [
    "#count of each rating type\n",
    "movie_info_df['rating'].value_counts()"
   ]
  },
  {
   "cell_type": "code",
   "execution_count": 8,
   "metadata": {},
   "outputs": [
    {
     "data": {
      "text/plain": [
       "rating\n",
       "G         274031600\n",
       "NC17        1260219\n",
       "NR         47238725\n",
       "PG       2653744950\n",
       "PG-13    6612858122\n",
       "R        3298910048\n",
       "Name: box_office_clean, dtype: int64"
      ]
     },
     "execution_count": 8,
     "metadata": {},
     "output_type": "execute_result"
    }
   ],
   "source": [
    "#box office total per rating\n",
    "movie_info_df.groupby(by = 'rating').sum()['box_office_clean']"
   ]
  },
  {
   "cell_type": "code",
   "execution_count": 9,
   "metadata": {},
   "outputs": [],
   "source": [
    "#making rating column binary - R or non-R\n",
    "movie_info_df['rating'].replace(\"G\",\"Non-R\", inplace=True)\n",
    "movie_info_df['rating'].replace(\"NC17\", \"R\", inplace=True)\n",
    "movie_info_df['rating'].replace(\"NR\", \"Non-R\", inplace=True)\n",
    "movie_info_df['rating'].replace(\"PG\", \"Non-R\", inplace=True)\n",
    "movie_info_df['rating'].replace(\"PG-13\", \"Non-R\", inplace=True)"
   ]
  },
  {
   "cell_type": "code",
   "execution_count": 10,
   "metadata": {},
   "outputs": [
    {
     "data": {
      "text/plain": [
       "Non-R    197\n",
       "R        143\n",
       "Name: rating, dtype: int64"
      ]
     },
     "execution_count": 10,
     "metadata": {},
     "output_type": "execute_result"
    }
   ],
   "source": [
    "#confirming above code worked\n",
    "movie_info_df['rating'].value_counts()"
   ]
  },
  {
   "cell_type": "code",
   "execution_count": 11,
   "metadata": {},
   "outputs": [
    {
     "data": {
      "text/plain": [
       "rating\n",
       "Non-R    9587873397\n",
       "R        3300170267\n",
       "Name: box_office_clean, dtype: int64"
      ]
     },
     "execution_count": 11,
     "metadata": {},
     "output_type": "execute_result"
    }
   ],
   "source": [
    "#box office total per rating\n",
    "movie_info_df.groupby(by = 'rating').sum()['box_office_clean']"
   ]
  },
  {
   "cell_type": "code",
   "execution_count": 12,
   "metadata": {},
   "outputs": [],
   "source": [
    "#Getting box office values for R and non-R categories\n",
    "R = movie_info_df[movie_info_df['rating'] == 'R']['box_office_clean'].values\n",
    "non_R = movie_info_df[movie_info_df['rating'] == 'Non-R']['box_office_clean'].values"
   ]
  },
  {
   "cell_type": "code",
   "execution_count": 13,
   "metadata": {},
   "outputs": [],
   "source": [
    "#Creating samples for each category\n",
    "\n",
    "#Q: Should we do sample. Technically, sample size don't need to be equal\n",
    "\n",
    "sample_R = np.random.choice(R, size=100, replace=False)\n",
    "sample_non_R = np.random.choice(non_R, size=100, replace=False)"
   ]
  },
  {
   "cell_type": "code",
   "execution_count": 14,
   "metadata": {},
   "outputs": [],
   "source": [
    "sample_R_mean = sample_R.mean()\n",
    "sample_non_R_mean = sample_non_R.mean()"
   ]
  },
  {
   "cell_type": "code",
   "execution_count": 15,
   "metadata": {},
   "outputs": [
    {
     "data": {
      "image/png": "[encoded data removed]",
      "text/plain": [
       "<Figure size 864x288 with 2 Axes>"
      ]
     },
     "metadata": {
      "needs_background": "light"
     },
     "output_type": "display_data"
    }
   ],
   "source": [
    "#Visuals - bar charts\n",
    "fig, (ax1, ax2) = plt.subplots(1, 2, figsize=(12, 4))\n",
    "\n",
    "bin_size = 9\n",
    "\n",
    "ax1.set_title('Sample of R-rated Movies')\n",
    "ax1.set_xlabel('Box Office Revenue')\n",
    "ax1.set_ylabel('Frequency')\n",
    "ax1.hist(sample_R, bins = bin_size)\n",
    "\n",
    "ax1.axvline(x=sample_R_mean, color='red', linestyle='--', linewidth=2, label='Mean')\n",
    "\n",
    "ax2.set_title('Sample of Non-R-rated Movies')\n",
    "ax2.set_xlabel('Box Office Revenue')\n",
    "ax2.set_ylabel('Frequency')\n",
    "ax2.hist(sample_non_R, bins = bin_size)\n",
    "\n",
    "ax2.axvline(x=sample_non_R_mean, color='red', linestyle='--', linewidth=2, label='Mean')\n",
    "\n",
    "max_x = max(max(sample_R), max(sample_non_R)) + 10000000\n",
    "max_y = 90\n",
    "\n",
    "ax1.set_xlim(0, max_x)\n",
    "ax1.set_ylim(0, max_y)\n",
    "ax2.set_xlim(0, max_x)\n",
    "ax2.set_ylim(0, max_y)\n",
    "\n",
    "plt.show();"
   ]
  },
  {
   "cell_type": "markdown",
   "metadata": {},
   "source": [
    "### Hypothesis\n",
    "- **Null Hypothesis**: R-rated movies bring in greater or equal box office revenue than Non-R-rated movies\n",
    "- **Alternate Hypothesis**: R-rated movies bring in less box office revenue than Non-R-rated movies"
   ]
  },
  {
   "cell_type": "code",
   "execution_count": 16,
   "metadata": {},
   "outputs": [
    {
     "data": {
      "text/plain": [
       "0.0003381373825897744"
      ]
     },
     "execution_count": 16,
     "metadata": {},
     "output_type": "execute_result"
    }
   ],
   "source": [
    "#Two sample t-test\n",
    "pvalue = stats.ttest_ind(sample_R, sample_non_R, equal_var = False).pvalue / 2\n",
    "pvalue"
   ]
  },
  {
   "cell_type": "markdown",
   "metadata": {},
   "source": [
    "### First Business Recommendation (make sure to change p-value as you re-run the model)\n",
    "\n",
    "We've set our alpha to be 0.05. Based on the Alpha and p-value of (####), we reject the null hypothesis and conclude that R-rated movies bring in less box office revenue than Non-R movies. Therefore, it will be beneficial for the Company to pursue non-R movies. "
   ]
  },
  {
   "cell_type": "markdown",
   "metadata": {},
   "source": [
    "### Limitations to the Analysis\n",
    "- Do NOT filter for movie release date. Considering all data points in the data set due to limited data\n",
    "- Do NOT adjust for inflation for the box office revenue\n",
    "- Do NOT account for the budget of each title"
   ]
  },
  {
   "cell_type": "markdown",
   "metadata": {},
   "source": [
    "## Analysis #1a - Additional Analysis on a Specific Genre"
   ]
  },
  {
   "cell_type": "markdown",
   "metadata": {},
   "source": [
    "### Action Movies"
   ]
  },
  {
   "cell_type": "code",
   "execution_count": 17,
   "metadata": {},
   "outputs": [],
   "source": [
    "# R Action movies vs Non-R Action movies\n",
    "R_Action = movie_info_df[(movie_info_df['genre'].str.contains('Action')) \n",
    "                         & (movie_info_df['rating'] == 'R')]['box_office_clean'].values\n",
    "Non_R_Action = movie_info_df[(movie_info_df['genre'].str.contains('Action')) \n",
    "                             & (movie_info_df['rating'] == 'Non-R')]['box_office_clean'].values"
   ]
  },
  {
   "cell_type": "code",
   "execution_count": 18,
   "metadata": {},
   "outputs": [],
   "source": [
    "#Taking samples\n",
    "R_Action_sample = np.random.choice(R_Action, size=20, replace=False)\n",
    "Non_R_Action_sample = np.random.choice(Non_R_Action, size=20, replace=False)"
   ]
  },
  {
   "cell_type": "code",
   "execution_count": 19,
   "metadata": {},
   "outputs": [],
   "source": [
    "R_Action_sample_mean = R_Action_sample.mean()\n",
    "Non_R_Action_sample_mean = Non_R_Action_sample.mean()"
   ]
  },
  {
   "cell_type": "code",
   "execution_count": 20,
   "metadata": {},
   "outputs": [
    {
     "data": {
      "image/png": "[encoded data removed]",
      "text/plain": [
       "<Figure size 864x288 with 2 Axes>"
      ]
     },
     "metadata": {
      "needs_background": "light"
     },
     "output_type": "display_data"
    }
   ],
   "source": [
    "# Visualization\n",
    "fig, (ax1, ax2) = plt.subplots(1, 2, figsize=(12, 4))\n",
    "\n",
    "bin_size = 10\n",
    "\n",
    "ax1.set_title('Sample of R-rated Action Movies')\n",
    "ax1.set_xlabel('Box Office Revenue')\n",
    "ax1.set_ylabel('Frequency')\n",
    "ax1.hist(R_Action_sample, bins = bin_size)\n",
    "\n",
    "ax1.axvline(x=R_Action_sample_mean, color='red', linestyle='--', linewidth=2, label='Mean')\n",
    "\n",
    "ax2.set_title('Sample of Non-R-rated Action Movies')\n",
    "ax2.set_xlabel('Box Office Revenue')\n",
    "ax2.set_ylabel('Frequency')\n",
    "ax2.hist(Non_R_Action_sample, bins = bin_size)\n",
    "\n",
    "ax2.axvline(x=Non_R_Action_sample_mean, color='red', linestyle='--', linewidth=2, label='Mean')\n",
    "\n",
    "max_x = max(max(R_Action_sample), max(Non_R_Action_sample)) + 10000000\n",
    "max_y = 25\n",
    "\n",
    "ax1.set_xlim(0, max_x)\n",
    "ax1.set_ylim(0, max_y)\n",
    "ax2.set_xlim(0, max_x)\n",
    "ax2.set_ylim(0, max_y)\n",
    "\n",
    "plt.show();"
   ]
  },
  {
   "cell_type": "code",
   "execution_count": 21,
   "metadata": {},
   "outputs": [
    {
     "data": {
      "text/plain": [
       "0.011488983892571875"
      ]
     },
     "execution_count": 21,
     "metadata": {},
     "output_type": "execute_result"
    }
   ],
   "source": [
    "#Two sample t-test\n",
    "pvalue = stats.ttest_ind(R_Action_sample, Non_R_Action_sample, equal_var = False).pvalue / 2\n",
    "pvalue"
   ]
  },
  {
   "cell_type": "markdown",
   "metadata": {},
   "source": [
    "### Adventure Movies"
   ]
  },
  {
   "cell_type": "code",
   "execution_count": 22,
   "metadata": {},
   "outputs": [],
   "source": [
    "# R Adventure movies vs Non-R Adventure movies\n",
    "R_Adventure = movie_info_df[(movie_info_df['genre'].str.contains('Adventure')) \n",
    "                         & (movie_info_df['rating'] == 'R')]['box_office_clean'].values\n",
    "Non_R_Adventure = movie_info_df[(movie_info_df['genre'].str.contains('Adventure')) \n",
    "                             & (movie_info_df['rating'] == 'Non-R')]['box_office_clean'].values"
   ]
  },
  {
   "cell_type": "code",
   "execution_count": 23,
   "metadata": {},
   "outputs": [],
   "source": [
    "#Taking samples\n",
    "R_Adventure_sample = np.random.choice(R_Adventure, size=20, replace=False)\n",
    "Non_R_Adventure_sample = np.random.choice(Non_R_Adventure, size=20, replace=False)"
   ]
  },
  {
   "cell_type": "code",
   "execution_count": 24,
   "metadata": {},
   "outputs": [],
   "source": [
    "R_Adventure_sample_mean = R_Adventure_sample.mean()\n",
    "Non_R_Adventure_sample_mean = Non_R_Adventure_sample.mean()"
   ]
  },
  {
   "cell_type": "code",
   "execution_count": 25,
   "metadata": {},
   "outputs": [
    {
     "data": {
      "image/png": "[encoded data removed]",
      "text/plain": [
       "<Figure size 864x288 with 2 Axes>"
      ]
     },
     "metadata": {
      "needs_background": "light"
     },
     "output_type": "display_data"
    }
   ],
   "source": [
    "# Visualization\n",
    "fig, (ax1, ax2) = plt.subplots(1, 2, figsize=(12, 4))\n",
    "\n",
    "bin_size = 10\n",
    "\n",
    "ax1.set_title('Sample of R-rated Adventure Movies')\n",
    "ax1.set_xlabel('Box Office Revenue')\n",
    "ax1.set_ylabel('Frequency')\n",
    "ax1.hist(R_Adventure_sample, bins = bin_size)\n",
    "\n",
    "ax1.axvline(x=R_Adventure_sample_mean, color='red', linestyle='--', linewidth=2, label='Mean')\n",
    "\n",
    "ax2.set_title('Sample of Non-R-rated Adventure Movies')\n",
    "ax2.set_xlabel('Box Office Revenue')\n",
    "ax2.set_ylabel('Frequency')\n",
    "ax2.hist(Non_R_Adventure_sample, bins = bin_size)\n",
    "\n",
    "ax2.axvline(x=Non_R_Adventure_sample_mean, color='red', linestyle='--', linewidth=2, label='Mean')\n",
    "\n",
    "max_x = max(max(R_Adventure_sample), max(Non_R_Adventure_sample)) + 10000000\n",
    "max_y = 25\n",
    "\n",
    "ax1.set_xlim(0, max_x)\n",
    "ax1.set_ylim(0, max_y)\n",
    "ax2.set_xlim(0, max_x)\n",
    "ax2.set_ylim(0, max_y)\n",
    "\n",
    "plt.show();"
   ]
  },
  {
   "cell_type": "code",
   "execution_count": 26,
   "metadata": {},
   "outputs": [
    {
     "data": {
      "text/plain": [
       "0.02305495114430515"
      ]
     },
     "execution_count": 26,
     "metadata": {},
     "output_type": "execute_result"
    }
   ],
   "source": [
    "#Two sample t-test\n",
    "pvalue = stats.ttest_ind(R_Adventure_sample, Non_R_Adventure_sample, equal_var = False).pvalue / 2\n",
    "pvalue"
   ]
  },
  {
   "cell_type": "code",
   "execution_count": null,
   "metadata": {},
   "outputs": [],
   "source": []
  },
  {
   "cell_type": "code",
   "execution_count": null,
   "metadata": {},
   "outputs": [],
   "source": []
  },
  {
   "cell_type": "code",
   "execution_count": null,
   "metadata": {},
   "outputs": [],
   "source": []
  },
  {
   "cell_type": "code",
   "execution_count": null,
   "metadata": {},
   "outputs": [],
   "source": []
  },
  {
   "cell_type": "code",
   "execution_count": null,
   "metadata": {},
   "outputs": [],
   "source": []
  }
 ],
 "metadata": {
  "celltoolbar": "Create Assignment",
  "kernelspec": {
   "display_name": "Python 3",
   "language": "python",
   "name": "python3"
  },
  "language_info": {
   "codemirror_mode": {
    "name": "ipython",
    "version": 3
   },
   "file_extension": ".py",
   "mimetype": "text/x-python",
   "name": "python",
   "nbconvert_exporter": "python",
   "pygments_lexer": "ipython3",
   "version": "3.8.5"
  }
 },
 "nbformat": 4,
 "nbformat_minor": 4
}
